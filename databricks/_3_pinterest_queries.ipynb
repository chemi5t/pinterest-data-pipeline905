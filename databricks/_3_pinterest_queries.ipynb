{
 "cells": [
  {
   "cell_type": "markdown",
   "metadata": {},
   "source": [
    "# **NOTE: replace <your_UserId> with your own details** "
   ]
  },
  {
   "cell_type": "code",
   "execution_count": null,
   "metadata": {
    "application/vnd.databricks.v1+cell": {
     "cellMetadata": {
      "byteLimit": 2048000,
      "rowLimit": 10000
     },
     "inputWidgets": {},
     "nuid": "205a29cf-13c8-4863-9225-9001de8ec21e",
     "showTitle": false,
     "title": ""
    }
   },
   "outputs": [
    {
     "data": {
      "text/html": [
       "<style scoped>\n",
       "  .table-result-container {\n",
       "    max-height: 300px;\n",
       "    overflow: auto;\n",
       "  }\n",
       "  table, th, td {\n",
       "    border: 1px solid black;\n",
       "    border-collapse: collapse;\n",
       "  }\n",
       "  th, td {\n",
       "    padding: 5px;\n",
       "  }\n",
       "  th {\n",
       "    text-align: left;\n",
       "  }\n",
       "</style><div class='table-result-container'><table class='table-result'><thead style='background-color: white'><tr><th>ind</th><th>unique_id</th><th>title</th><th>description</th><th>follower_count</th><th>poster_name</th><th>tag_list</th><th>is_image_or_video</th><th>image_src</th><th>save_location</th><th>category</th></tr></thead><tbody><tr><td>6333</td><td>a751bd9e-dbb5-4284-8e01-edf4a08dde52</td><td>Bookcase Styling - Essential Pieces for a New Look  — Jenny Reimold</td><td>One of the most common areas that people struggle with is bookcase or shelf styling. There are often many surfaces of different sizes so naturally, deciding what to put on those… </td><td>4000</td><td>T I F F A N Y</td><td>Home Living Room,Living Room Decor,Shelf Ideas For Living Room,Living Room Shelving,Living Room Bookshelves,Bookcase Styling,Decoration Bedroom,Decoration Inspiration,Decor Ideas</td><td>image</td><td>https://i.pinimg.com/originals/37/a6/ad/37a6ad836eeb4e8f180282b5085a5354.jpg</td><td>/data/home-decor</td><td>home-decor</td></tr><tr><td>2759</td><td>79bc1593-60e5-439e-926f-e0bd90d3f018</td><td>How to Make Q-Tip Skeletons</td><td>This Q-Tip Skeleton Halloween craft is perfect for preschoolers and even older kids. Use our free printable template to make it even cuter!</td><td>56000</td><td>Thriving Home</td><td>Halloween Arts And Crafts,Fall Crafts For Kids,Halloween Fun,Halloween Activities For Preschoolers,Halloween Crafts For Kindergarten,October Preschool Crafts,Halloween Crafts For Preschoolers,Kids Arts And Crafts,Haloween Craft</td><td>video</td><td>https://i.pinimg.com/videos/thumbnails/originals/21/c4/ed/21c4ed01d8c9a1e55b1ecfd89f22f1f6.0000001.jpg</td><td>/data/diy-and-crafts</td><td>diy-and-crafts</td></tr><tr><td>4590</td><td>79362886-ac54-4478-9077-de21a794942f</td><td>8 Ways to Ruin Your Event Planning Career - Pointers For Planners</td><td>Learn the 8 mistakes you need to avoid in order to achieve success as an event planner! #QCEventSchool #eventplanning #weddingplanning #eventplanningcareer #becomeaweddingplanne… </td><td>511</td><td>QC Event School</td><td>Event Planning Quotes,Event Planning Checklist,Event Planning Business,Wedding Planning,Career Planning,Planning Calendar,Career Ideas,Event Planning Design,Wedding Ideas</td><td>image</td><td>https://i.pinimg.com/originals/f5/41/6a/f5416ac43968aac0132b69d9eafd3d30.jpg</td><td>/data/event-planning</td><td>event-planning</td></tr><tr><td>4122</td><td>70379c87-04db-441a-ac41-dee9f0d8aa34</td><td>How to Use Project Based Learning in Your Classroom</td><td>Sitting quietly and reading a textbook can make even the most devoted student's mind wander. Instead, use these project based learning ideas to design lessons that excite and in… </td><td>87000</td><td>ADDitude Magazine</td><td>Inquiry Based Learning,Learning Theory,Experiential Learning,Project Based Learning,Student Learning,Problem Based Learning Examples,Ways Of Learning,Blended Learning,Instructional Strategies</td><td>image</td><td>https://i.pinimg.com/originals/c0/4c/b0/c04cb02778549cc2d419d4642ffe6c55.jpg</td><td>/data/education</td><td>education</td></tr><tr><td>8300</td><td>7ddd23cf-68a5-4b5a-a800-1d985cbc69b4</td><td>The Maker's Map - Quotes and Sayings that inspire</td><td>Quotes and Sayings that inspire, motivate, encourage women. Quotes to use on social media. Content ideas for bloggers.</td><td>19000</td><td>Amber Strong - The Maker’s Map | DIY’s, Crafts & Home Decor</td><td>Positive Quotes For Life Encouragement,Positive Quotes For Life Happiness,Good Happy Quotes,Quotes Positive,Being Happy Quotes,Happy Sayings,Happy Life Quotes To Live By,Self Happiness Quotes,Positive Thoughts Quotes</td><td>image</td><td>https://i.pinimg.com/originals/e9/83/44/e983446f2c08cc6da883b9d777f3369f.jpg</td><td>/data/quotes</td><td>quotes</td></tr><tr><td>8300</td><td>7ddd23cf-68a5-4b5a-a800-1d985cbc69b4</td><td>The Maker's Map - Quotes and Sayings that inspire</td><td>Quotes and Sayings that inspire, motivate, encourage women. Quotes to use on social media. Content ideas for bloggers.</td><td>19000</td><td>Amber Strong - The Maker’s Map | DIY’s, Crafts & Home Decor</td><td>Positive Quotes For Life Encouragement,Positive Quotes For Life Happiness,Good Happy Quotes,Quotes Positive,Being Happy Quotes,Happy Sayings,Happy Life Quotes To Live By,Self Happiness Quotes,Positive Thoughts Quotes</td><td>image</td><td>https://i.pinimg.com/originals/e9/83/44/e983446f2c08cc6da883b9d777f3369f.jpg</td><td>/data/quotes</td><td>quotes</td></tr><tr><td>8300</td><td>7ddd23cf-68a5-4b5a-a800-1d985cbc69b4</td><td>The Maker's Map - Quotes and Sayings that inspire</td><td>Quotes and Sayings that inspire, motivate, encourage women. Quotes to use on social media. Content ideas for bloggers.</td><td>19000</td><td>Amber Strong - The Maker’s Map | DIY’s, Crafts & Home Decor</td><td>Positive Quotes For Life Encouragement,Positive Quotes For Life Happiness,Good Happy Quotes,Quotes Positive,Being Happy Quotes,Happy Sayings,Happy Life Quotes To Live By,Self Happiness Quotes,Positive Thoughts Quotes</td><td>image</td><td>https://i.pinimg.com/originals/e9/83/44/e983446f2c08cc6da883b9d777f3369f.jpg</td><td>/data/quotes</td><td>quotes</td></tr><tr><td>1611</td><td>051e231c-7509-4379-9b9b-352883d63b8c</td><td>Over The Years, People Have Turn Into More Aware Of What's Inside Their Products And Have Begun T...</td><td>[PaidLink] It's made with clarifying black clay and useless sea mud-plus natural almond and avocado oils to help moisturize and soothe your skin, while absorbing excess oils. An… </td><td>22</td><td>Hair Accessories</td><td>Natural Beauty Tips,Health And Beauty Tips,Health Tips,Beauty Guide,Beauty Secrets,Natural Beauty Remedies,Skin Secrets,Natural Cures,Health Benefits</td><td>image</td><td>https://i.pinimg.com/originals/ff/09/71/ff097153a9d3fe3c9142c3cd7e9ed8d7.png</td><td>/data/beauty</td><td>beauty</td></tr><tr><td>896</td><td>ef1329a1-9e00-4abb-b205-b29fb4fe2391</td><td>Lip Scrub Brush, 2 in 1 Double-Sided Silicone Exfoliating Lip Brush Tool for Smoother and Fuller Lip Appearance (4PCS) | Habbie Beauty - 4 Pack</td><td>Exfoliating brush set This package comes 4 pieces of double-sided lip exfoliator brushes in 4 different colors. Soft and durable The head of double-sided silicone lip brush scru… </td><td>4</td><td>Habbie Beauty</td><td>Facial Care,Lip Care,Beauty Care,Beauty Hacks,Beauty Tips,Lip Brush,Brush Set,Body Brushing,Headbands For Women</td><td>image</td><td>https://i.pinimg.com/originals/30/56/d8/3056d850f5f08e589270e6efcfceb8dc.png</td><td>/data/beauty</td><td>beauty</td></tr><tr><td>653</td><td>c5ba2d84-4fef-410f-b3d7-8c75ba07dba3</td><td>STAIRWAY IN THE OLD PARK — PALETTE KNIFE Oil Painting On Canvas By Leonid Afremov</td><td>We would like to present the hand painted recreation oil on canvas painting of the artwork mentioned in the title. This painting comes signed by on the front and the back. Certi… </td><td>1000</td><td>Leonid Afremov</td><td>Art Painting Tools,Easy Canvas Painting,Diy Canvas Art,Diy Painting,Blank Canvas,Painting Flowers,Creative Painting Ideas,Painting Ideas For Beginners,Canvas Painting Projects</td><td>image</td><td>https://i.pinimg.com/originals/3e/61/79/3e6179d8ac92847bf472de6917159815.jpg</td><td>/data/art</td><td>art</td></tr><tr><td>8843</td><td>8041b4e9-a8fd-488d-bb1e-af5539d34f85</td><td>35 Perfect Couple Tattoo Design Ideas</td><td>There are many ways to show the beautiful love between couples, and getting couple tattoos is one of the most popular options.When you design this tattoo together, you can show… </td><td>47000</td><td>IdeasDonuts</td><td>Couple Tattoos Unique Meaningful,Infinity Couple Tattoos,Romantic Couples Tattoos,Couple Tattoos Love,Couples Tattoo Designs,Matching Tattoos For Couples,Unique Infinity Tattoo,Tattoo For Couples,Couple Tattoo Ideas</td><td>image</td><td>https://i.pinimg.com/originals/fa/09/60/fa0960ce8454e41da48d4221444ba5a6.jpg</td><td>/data/tattoos</td><td>tattoos</td></tr><tr><td>8300</td><td>7ddd23cf-68a5-4b5a-a800-1d985cbc69b4</td><td>The Maker's Map - Quotes and Sayings that inspire</td><td>Quotes and Sayings that inspire, motivate, encourage women. Quotes to use on social media. Content ideas for bloggers.</td><td>19000</td><td>Amber Strong - The Maker’s Map | DIY’s, Crafts & Home Decor</td><td>Positive Quotes For Life Encouragement,Positive Quotes For Life Happiness,Good Happy Quotes,Quotes Positive,Being Happy Quotes,Happy Sayings,Happy Life Quotes To Live By,Self Happiness Quotes,Positive Thoughts Quotes</td><td>image</td><td>https://i.pinimg.com/originals/e9/83/44/e983446f2c08cc6da883b9d777f3369f.jpg</td><td>/data/quotes</td><td>quotes</td></tr><tr><td>1857</td><td>ee77726b-bf3e-44d4-a8b7-09826150fbe5</td><td>Hilarious Minute To Win It Christmas Games</td><td>Hilarious Christmas Minute to win it games. These fun Christmas party games are perfect for all ages. Fun and simple christmas minute to win it games are a blast to play. #Chris… </td><td>40000</td><td>Fun-squared</td><td>Minute To Win It Games Christmas,Fun Family Christmas Games,Christmas Party Activities,Christmas Party Ideas For Teens,Xmas Games,Adult Christmas Party,Christmas Party Themes,Fun Party Games,Holiday Games</td><td>image</td><td>https://i.pinimg.com/originals/28/9c/67/289c67081357cb5e4970bdb618e3ea37.jpg</td><td>/data/christmas</td><td>christmas</td></tr><tr><td>1857</td><td>ee77726b-bf3e-44d4-a8b7-09826150fbe5</td><td>Hilarious Minute To Win It Christmas Games</td><td>Hilarious Christmas Minute to win it games. These fun Christmas party games are perfect for all ages. Fun and simple christmas minute to win it games are a blast to play. #Chris… </td><td>40000</td><td>Fun-squared</td><td>Minute To Win It Games Christmas,Fun Family Christmas Games,Christmas Party Activities,Christmas Party Ideas For Teens,Xmas Games,Adult Christmas Party,Christmas Party Themes,Fun Party Games,Holiday Games</td><td>image</td><td>https://i.pinimg.com/originals/28/9c/67/289c67081357cb5e4970bdb618e3ea37.jpg</td><td>/data/christmas</td><td>christmas</td></tr><tr><td>8738</td><td>bddbd8b0-b54b-4c10-b704-15ce392b711e</td><td>51 Unique Minimalist Tattoos Designs For Women</td><td>\"Minimalist Tattoos\" Tattoo minimalism has always been relevant, and today it does not slow down, but on the contrary, it is becoming more popular. This</td><td>54000</td><td>Beautyholo | Latest Hairstyles, Nail Design Ideas, Home Décor DIY, Women Fashion Ideas</td><td>Simple Leg Tattoos,Tiny Wrist Tattoos,Subtle Tattoos,Dainty Tattoos,Simplistic Tattoos,Cute Small Tattoos,Tiny Tattoos For Girls,Pretty Tattoos,Mini Tattoos</td><td>image</td><td>https://i.pinimg.com/originals/ce/29/97/ce299751f3b16e94a773d8d106ba4907.jpg</td><td>/data/tattoos</td><td>tattoos</td></tr><tr><td>3813</td><td>49f7dfe7-2e5a-403c-99a3-8f16ff4e7975</td><td>Fun Interactive Digital Classroom - Make your Own with Google Slides!</td><td>Tired of Google Classroom - need something a bit different? Try making your own Digital Interactive Classroom to give your students information and assignments. Easy to do with… </td><td>9000</td><td>Science of Curiosity</td><td>Google Classroom,Classroom Ideas,Flipped Classroom,Teaching Technology,Technology Integration,Medical Technology,Energy Technology,Technology Gadgets,Student Information</td><td>image</td><td>https://i.pinimg.com/originals/37/ae/9e/37ae9e2f387a2de13ab0577472637140.png</td><td>/data/education</td><td>education</td></tr><tr><td>2904</td><td>d3cadb1f-e85c-4384-a8f4-4c7f77c1dd77</td><td>Cute Squirrel Hats</td><td>This printable Squirrel Hat Craft is adorable! The squirrel craft template comes in B/W and 2 colour versions making it super easy to make cute paper squirrel headbands. Such a… </td><td>277000</td><td>Kids Craft Room</td><td>Fall Arts And Crafts,Kids Fall Crafts,Thanksgiving Crafts For Kids,Fall Crafts For Preschoolers,Scarecrow Crafts,Halloween Crafts,Daycare Crafts,Preschool Crafts,Craft Activities For Kids</td><td>video</td><td>https://i.pinimg.com/videos/thumbnails/originals/59/41/f4/5941f4ac3bee2b60f20b045704c78563.0000001.jpg</td><td>/data/diy-and-crafts</td><td>diy-and-crafts</td></tr><tr><td>7631</td><td>a394dbcc-fe81-4f05-8bd4-ee708add8b43</td><td>10 Motivational Quotes for 2021 | inspiration for students | myclickjournal</td><td>Looking for motivational quotes for 2021? Here are my top 10 inspirational quotes for the new year, to start working on goals and achieve them!</td><td>13000</td><td>myclickjournal | Online Business, College & Budget Travel Tips</td><td>Quotes Dream,Motivacional Quotes,Life Quotes Love,Quotes To Live By,Powerful Quotes About Life,Value Quotes,Quotes For Time,Quotes That Inspire,Keep On Going Quotes</td><td>image</td><td>https://i.pinimg.com/originals/40/23/de/4023de972242306b7f21fa06516aedcf.jpg</td><td>/data/quotes</td><td>quotes</td></tr><tr><td>3052</td><td>37cd6dd5-b384-4bd6-a2d3-edd61771a474</td><td>40 DIY Crafts To Make & Sell For Money</td><td>40 Easy & fun DIY crafts to make and sell that you need to try!! If you are looking at making some extra cash, then make sure to try out these DIY crafts!! #diycrafts #selldiycr… </td><td>43000</td><td>RT Lifestyle Magazine | Travel, DIY, Recipes, Fitness & More</td><td>Easy Crafts To Sell,Money Making Crafts,Diy Crafts For Adults,Sell Diy,Diy Crafts Videos,Diy Crafts For Kids,Kids Diy,Teen Girl Crafts,Summer Crafts</td><td>image</td><td>https://i.pinimg.com/originals/59/2a/3d/592a3d7859a3c15dc67b45b343efb644.png</td><td>/data/diy-and-crafts</td><td>diy-and-crafts</td></tr><tr><td>1729</td><td>8346ebcf-0cd7-49fe-8ab3-06387736cee7</td><td>100 Best Christmas mantel decorations that glisten with an aesthetic élan - Hike n Dip</td><td>Here are 100 Best Christmas Mantel Decorations. Take inspiration for the perfect Christmas Fireplace decor, that include various themes & traditional styles</td><td>500000</td><td>HikenDip</td><td>Decoration Christmas,Christmas Mantels,Farmhouse Christmas Decor,Noel Christmas,Christmas Cookies,Christmas Music,Christmas Fireplace Decorations,Christmas Staircase,Christmas Tree Ideas</td><td>image</td><td>https://i.pinimg.com/originals/6f/8c/44/6f8c44eeea3b69edc972f3293d12ae0a.jpg</td><td>/data/christmas</td><td>christmas</td></tr></tbody></table></div>"
      ]
     },
     "metadata": {
      "application/vnd.databricks.v1+output": {
       "addedWidgets": {},
       "aggData": [],
       "aggError": "",
       "aggOverflow": false,
       "aggSchema": [],
       "aggSeriesLimitReached": false,
       "aggType": "",
       "arguments": {},
       "columnCustomDisplayInfos": {},
       "data": [
        [
         6333,
         "a751bd9e-dbb5-4284-8e01-edf4a08dde52",
         "Bookcase Styling - Essential Pieces for a New Look  — Jenny Reimold",
         "One of the most common areas that people struggle with is bookcase or shelf styling. There are often many surfaces of different sizes so naturally, deciding what to put on those… ",
         4000,
         "T I F F A N Y",
         "Home Living Room,Living Room Decor,Shelf Ideas For Living Room,Living Room Shelving,Living Room Bookshelves,Bookcase Styling,Decoration Bedroom,Decoration Inspiration,Decor Ideas",
         "image",
         "https://i.pinimg.com/originals/37/a6/ad/37a6ad836eeb4e8f180282b5085a5354.jpg",
         "/data/home-decor",
         "home-decor"
        ],
        [
         2759,
         "79bc1593-60e5-439e-926f-e0bd90d3f018",
         "How to Make Q-Tip Skeletons",
         "This Q-Tip Skeleton Halloween craft is perfect for preschoolers and even older kids. Use our free printable template to make it even cuter!",
         56000,
         "Thriving Home",
         "Halloween Arts And Crafts,Fall Crafts For Kids,Halloween Fun,Halloween Activities For Preschoolers,Halloween Crafts For Kindergarten,October Preschool Crafts,Halloween Crafts For Preschoolers,Kids Arts And Crafts,Haloween Craft",
         "video",
         "https://i.pinimg.com/videos/thumbnails/originals/21/c4/ed/21c4ed01d8c9a1e55b1ecfd89f22f1f6.0000001.jpg",
         "/data/diy-and-crafts",
         "diy-and-crafts"
        ],
        [
         4590,
         "79362886-ac54-4478-9077-de21a794942f",
         "8 Ways to Ruin Your Event Planning Career - Pointers For Planners",
         "Learn the 8 mistakes you need to avoid in order to achieve success as an event planner! #QCEventSchool #eventplanning #weddingplanning #eventplanningcareer #becomeaweddingplanne… ",
         511,
         "QC Event School",
         "Event Planning Quotes,Event Planning Checklist,Event Planning Business,Wedding Planning,Career Planning,Planning Calendar,Career Ideas,Event Planning Design,Wedding Ideas",
         "image",
         "https://i.pinimg.com/originals/f5/41/6a/f5416ac43968aac0132b69d9eafd3d30.jpg",
         "/data/event-planning",
         "event-planning"
        ],
        [
         4122,
         "70379c87-04db-441a-ac41-dee9f0d8aa34",
         "How to Use Project Based Learning in Your Classroom",
         "Sitting quietly and reading a textbook can make even the most devoted student's mind wander. Instead, use these project based learning ideas to design lessons that excite and in… ",
         87000,
         "ADDitude Magazine",
         "Inquiry Based Learning,Learning Theory,Experiential Learning,Project Based Learning,Student Learning,Problem Based Learning Examples,Ways Of Learning,Blended Learning,Instructional Strategies",
         "image",
         "https://i.pinimg.com/originals/c0/4c/b0/c04cb02778549cc2d419d4642ffe6c55.jpg",
         "/data/education",
         "education"
        ],
        [
         8300,
         "7ddd23cf-68a5-4b5a-a800-1d985cbc69b4",
         "The Maker's Map - Quotes and Sayings that inspire",
         "Quotes and Sayings that inspire, motivate, encourage women. Quotes to use on social media. Content ideas for bloggers.",
         19000,
         "Amber Strong - The Maker’s Map | DIY’s, Crafts & Home Decor",
         "Positive Quotes For Life Encouragement,Positive Quotes For Life Happiness,Good Happy Quotes,Quotes Positive,Being Happy Quotes,Happy Sayings,Happy Life Quotes To Live By,Self Happiness Quotes,Positive Thoughts Quotes",
         "image",
         "https://i.pinimg.com/originals/e9/83/44/e983446f2c08cc6da883b9d777f3369f.jpg",
         "/data/quotes",
         "quotes"
        ],
        [
         8300,
         "7ddd23cf-68a5-4b5a-a800-1d985cbc69b4",
         "The Maker's Map - Quotes and Sayings that inspire",
         "Quotes and Sayings that inspire, motivate, encourage women. Quotes to use on social media. Content ideas for bloggers.",
         19000,
         "Amber Strong - The Maker’s Map | DIY’s, Crafts & Home Decor",
         "Positive Quotes For Life Encouragement,Positive Quotes For Life Happiness,Good Happy Quotes,Quotes Positive,Being Happy Quotes,Happy Sayings,Happy Life Quotes To Live By,Self Happiness Quotes,Positive Thoughts Quotes",
         "image",
         "https://i.pinimg.com/originals/e9/83/44/e983446f2c08cc6da883b9d777f3369f.jpg",
         "/data/quotes",
         "quotes"
        ],
        [
         8300,
         "7ddd23cf-68a5-4b5a-a800-1d985cbc69b4",
         "The Maker's Map - Quotes and Sayings that inspire",
         "Quotes and Sayings that inspire, motivate, encourage women. Quotes to use on social media. Content ideas for bloggers.",
         19000,
         "Amber Strong - The Maker’s Map | DIY’s, Crafts & Home Decor",
         "Positive Quotes For Life Encouragement,Positive Quotes For Life Happiness,Good Happy Quotes,Quotes Positive,Being Happy Quotes,Happy Sayings,Happy Life Quotes To Live By,Self Happiness Quotes,Positive Thoughts Quotes",
         "image",
         "https://i.pinimg.com/originals/e9/83/44/e983446f2c08cc6da883b9d777f3369f.jpg",
         "/data/quotes",
         "quotes"
        ],
        [
         1611,
         "051e231c-7509-4379-9b9b-352883d63b8c",
         "Over The Years, People Have Turn Into More Aware Of What's Inside Their Products And Have Begun T...",
         "[PaidLink] It's made with clarifying black clay and useless sea mud-plus natural almond and avocado oils to help moisturize and soothe your skin, while absorbing excess oils. An… ",
         22,
         "Hair Accessories",
         "Natural Beauty Tips,Health And Beauty Tips,Health Tips,Beauty Guide,Beauty Secrets,Natural Beauty Remedies,Skin Secrets,Natural Cures,Health Benefits",
         "image",
         "https://i.pinimg.com/originals/ff/09/71/ff097153a9d3fe3c9142c3cd7e9ed8d7.png",
         "/data/beauty",
         "beauty"
        ],
        [
         896,
         "ef1329a1-9e00-4abb-b205-b29fb4fe2391",
         "Lip Scrub Brush, 2 in 1 Double-Sided Silicone Exfoliating Lip Brush Tool for Smoother and Fuller Lip Appearance (4PCS) | Habbie Beauty - 4 Pack",
         "Exfoliating brush set This package comes 4 pieces of double-sided lip exfoliator brushes in 4 different colors. Soft and durable The head of double-sided silicone lip brush scru… ",
         4,
         "Habbie Beauty",
         "Facial Care,Lip Care,Beauty Care,Beauty Hacks,Beauty Tips,Lip Brush,Brush Set,Body Brushing,Headbands For Women",
         "image",
         "https://i.pinimg.com/originals/30/56/d8/3056d850f5f08e589270e6efcfceb8dc.png",
         "/data/beauty",
         "beauty"
        ],
        [
         653,
         "c5ba2d84-4fef-410f-b3d7-8c75ba07dba3",
         "STAIRWAY IN THE OLD PARK — PALETTE KNIFE Oil Painting On Canvas By Leonid Afremov",
         "We would like to present the hand painted recreation oil on canvas painting of the artwork mentioned in the title. This painting comes signed by on the front and the back. Certi… ",
         1000,
         "Leonid Afremov",
         "Art Painting Tools,Easy Canvas Painting,Diy Canvas Art,Diy Painting,Blank Canvas,Painting Flowers,Creative Painting Ideas,Painting Ideas For Beginners,Canvas Painting Projects",
         "image",
         "https://i.pinimg.com/originals/3e/61/79/3e6179d8ac92847bf472de6917159815.jpg",
         "/data/art",
         "art"
        ],
        [
         8843,
         "8041b4e9-a8fd-488d-bb1e-af5539d34f85",
         "35 Perfect Couple Tattoo Design Ideas",
         "There are many ways to show the beautiful love between couples, and getting couple tattoos is one of the most popular options.When you design this tattoo together, you can show… ",
         47000,
         "IdeasDonuts",
         "Couple Tattoos Unique Meaningful,Infinity Couple Tattoos,Romantic Couples Tattoos,Couple Tattoos Love,Couples Tattoo Designs,Matching Tattoos For Couples,Unique Infinity Tattoo,Tattoo For Couples,Couple Tattoo Ideas",
         "image",
         "https://i.pinimg.com/originals/fa/09/60/fa0960ce8454e41da48d4221444ba5a6.jpg",
         "/data/tattoos",
         "tattoos"
        ],
        [
         8300,
         "7ddd23cf-68a5-4b5a-a800-1d985cbc69b4",
         "The Maker's Map - Quotes and Sayings that inspire",
         "Quotes and Sayings that inspire, motivate, encourage women. Quotes to use on social media. Content ideas for bloggers.",
         19000,
         "Amber Strong - The Maker’s Map | DIY’s, Crafts & Home Decor",
         "Positive Quotes For Life Encouragement,Positive Quotes For Life Happiness,Good Happy Quotes,Quotes Positive,Being Happy Quotes,Happy Sayings,Happy Life Quotes To Live By,Self Happiness Quotes,Positive Thoughts Quotes",
         "image",
         "https://i.pinimg.com/originals/e9/83/44/e983446f2c08cc6da883b9d777f3369f.jpg",
         "/data/quotes",
         "quotes"
        ],
        [
         1857,
         "ee77726b-bf3e-44d4-a8b7-09826150fbe5",
         "Hilarious Minute To Win It Christmas Games",
         "Hilarious Christmas Minute to win it games. These fun Christmas party games are perfect for all ages. Fun and simple christmas minute to win it games are a blast to play. #Chris… ",
         40000,
         "Fun-squared",
         "Minute To Win It Games Christmas,Fun Family Christmas Games,Christmas Party Activities,Christmas Party Ideas For Teens,Xmas Games,Adult Christmas Party,Christmas Party Themes,Fun Party Games,Holiday Games",
         "image",
         "https://i.pinimg.com/originals/28/9c/67/289c67081357cb5e4970bdb618e3ea37.jpg",
         "/data/christmas",
         "christmas"
        ],
        [
         1857,
         "ee77726b-bf3e-44d4-a8b7-09826150fbe5",
         "Hilarious Minute To Win It Christmas Games",
         "Hilarious Christmas Minute to win it games. These fun Christmas party games are perfect for all ages. Fun and simple christmas minute to win it games are a blast to play. #Chris… ",
         40000,
         "Fun-squared",
         "Minute To Win It Games Christmas,Fun Family Christmas Games,Christmas Party Activities,Christmas Party Ideas For Teens,Xmas Games,Adult Christmas Party,Christmas Party Themes,Fun Party Games,Holiday Games",
         "image",
         "https://i.pinimg.com/originals/28/9c/67/289c67081357cb5e4970bdb618e3ea37.jpg",
         "/data/christmas",
         "christmas"
        ],
        [
         8738,
         "bddbd8b0-b54b-4c10-b704-15ce392b711e",
         "51 Unique Minimalist Tattoos Designs For Women",
         "\"Minimalist Tattoos\" Tattoo minimalism has always been relevant, and today it does not slow down, but on the contrary, it is becoming more popular. This",
         54000,
         "Beautyholo | Latest Hairstyles, Nail Design Ideas, Home Décor DIY, Women Fashion Ideas",
         "Simple Leg Tattoos,Tiny Wrist Tattoos,Subtle Tattoos,Dainty Tattoos,Simplistic Tattoos,Cute Small Tattoos,Tiny Tattoos For Girls,Pretty Tattoos,Mini Tattoos",
         "image",
         "https://i.pinimg.com/originals/ce/29/97/ce299751f3b16e94a773d8d106ba4907.jpg",
         "/data/tattoos",
         "tattoos"
        ],
        [
         3813,
         "49f7dfe7-2e5a-403c-99a3-8f16ff4e7975",
         "Fun Interactive Digital Classroom - Make your Own with Google Slides!",
         "Tired of Google Classroom - need something a bit different? Try making your own Digital Interactive Classroom to give your students information and assignments. Easy to do with… ",
         9000,
         "Science of Curiosity",
         "Google Classroom,Classroom Ideas,Flipped Classroom,Teaching Technology,Technology Integration,Medical Technology,Energy Technology,Technology Gadgets,Student Information",
         "image",
         "https://i.pinimg.com/originals/37/ae/9e/37ae9e2f387a2de13ab0577472637140.png",
         "/data/education",
         "education"
        ],
        [
         2904,
         "d3cadb1f-e85c-4384-a8f4-4c7f77c1dd77",
         "Cute Squirrel Hats",
         "This printable Squirrel Hat Craft is adorable! The squirrel craft template comes in B/W and 2 colour versions making it super easy to make cute paper squirrel headbands. Such a… ",
         277000,
         "Kids Craft Room",
         "Fall Arts And Crafts,Kids Fall Crafts,Thanksgiving Crafts For Kids,Fall Crafts For Preschoolers,Scarecrow Crafts,Halloween Crafts,Daycare Crafts,Preschool Crafts,Craft Activities For Kids",
         "video",
         "https://i.pinimg.com/videos/thumbnails/originals/59/41/f4/5941f4ac3bee2b60f20b045704c78563.0000001.jpg",
         "/data/diy-and-crafts",
         "diy-and-crafts"
        ],
        [
         7631,
         "a394dbcc-fe81-4f05-8bd4-ee708add8b43",
         "10 Motivational Quotes for 2021 | inspiration for students | myclickjournal",
         "Looking for motivational quotes for 2021? Here are my top 10 inspirational quotes for the new year, to start working on goals and achieve them!",
         13000,
         "myclickjournal | Online Business, College & Budget Travel Tips",
         "Quotes Dream,Motivacional Quotes,Life Quotes Love,Quotes To Live By,Powerful Quotes About Life,Value Quotes,Quotes For Time,Quotes That Inspire,Keep On Going Quotes",
         "image",
         "https://i.pinimg.com/originals/40/23/de/4023de972242306b7f21fa06516aedcf.jpg",
         "/data/quotes",
         "quotes"
        ],
        [
         3052,
         "37cd6dd5-b384-4bd6-a2d3-edd61771a474",
         "40 DIY Crafts To Make & Sell For Money",
         "40 Easy & fun DIY crafts to make and sell that you need to try!! If you are looking at making some extra cash, then make sure to try out these DIY crafts!! #diycrafts #selldiycr… ",
         43000,
         "RT Lifestyle Magazine | Travel, DIY, Recipes, Fitness & More",
         "Easy Crafts To Sell,Money Making Crafts,Diy Crafts For Adults,Sell Diy,Diy Crafts Videos,Diy Crafts For Kids,Kids Diy,Teen Girl Crafts,Summer Crafts",
         "image",
         "https://i.pinimg.com/originals/59/2a/3d/592a3d7859a3c15dc67b45b343efb644.png",
         "/data/diy-and-crafts",
         "diy-and-crafts"
        ],
        [
         1729,
         "8346ebcf-0cd7-49fe-8ab3-06387736cee7",
         "100 Best Christmas mantel decorations that glisten with an aesthetic élan - Hike n Dip",
         "Here are 100 Best Christmas Mantel Decorations. Take inspiration for the perfect Christmas Fireplace decor, that include various themes & traditional styles",
         500000,
         "HikenDip",
         "Decoration Christmas,Christmas Mantels,Farmhouse Christmas Decor,Noel Christmas,Christmas Cookies,Christmas Music,Christmas Fireplace Decorations,Christmas Staircase,Christmas Tree Ideas",
         "image",
         "https://i.pinimg.com/originals/6f/8c/44/6f8c44eeea3b69edc972f3293d12ae0a.jpg",
         "/data/christmas",
         "christmas"
        ]
       ],
       "datasetInfos": [],
       "dbfsResultPath": null,
       "isJsonSchema": true,
       "metadata": {},
       "overflow": false,
       "plotOptions": {
        "customPlotOptions": {},
        "displayType": "table",
        "pivotAggregation": null,
        "pivotColumns": null,
        "xColumns": null,
        "yColumns": null
       },
       "removedWidgets": [],
       "schema": [
        {
         "metadata": "{}",
         "name": "ind",
         "type": "\"integer\""
        },
        {
         "metadata": "{}",
         "name": "unique_id",
         "type": "\"string\""
        },
        {
         "metadata": "{}",
         "name": "title",
         "type": "\"string\""
        },
        {
         "metadata": "{}",
         "name": "description",
         "type": "\"string\""
        },
        {
         "metadata": "{}",
         "name": "follower_count",
         "type": "\"integer\""
        },
        {
         "metadata": "{}",
         "name": "poster_name",
         "type": "\"string\""
        },
        {
         "metadata": "{}",
         "name": "tag_list",
         "type": "\"string\""
        },
        {
         "metadata": "{}",
         "name": "is_image_or_video",
         "type": "\"string\""
        },
        {
         "metadata": "{}",
         "name": "image_src",
         "type": "\"string\""
        },
        {
         "metadata": "{}",
         "name": "save_location",
         "type": "\"string\""
        },
        {
         "metadata": "{}",
         "name": "category",
         "type": "\"string\""
        }
       ],
       "type": "table"
      }
     },
     "output_type": "display_data"
    },
    {
     "data": {
      "text/html": [
       "<style scoped>\n",
       "  .table-result-container {\n",
       "    max-height: 300px;\n",
       "    overflow: auto;\n",
       "  }\n",
       "  table, th, td {\n",
       "    border: 1px solid black;\n",
       "    border-collapse: collapse;\n",
       "  }\n",
       "  th, td {\n",
       "    padding: 5px;\n",
       "  }\n",
       "  th {\n",
       "    text-align: left;\n",
       "  }\n",
       "</style><div class='table-result-container'><table class='table-result'><thead style='background-color: white'><tr><th>ind</th><th>country</th><th>coordinates</th><th>timestamp</th></tr></thead><tbody><tr><td>10625</td><td>Jamaica</td><td>List(-84.4944, -81.0613)</td><td>2018-07-13T11:51:15.000+0000</td></tr><tr><td>9875</td><td>Barbados</td><td>List(-74.3382, -110.484)</td><td>2020-03-20T13:03:18.000+0000</td></tr><tr><td>8887</td><td>Botswana</td><td>List(-28.0137, -160.708)</td><td>2021-09-19T05:27:43.000+0000</td></tr><tr><td>4137</td><td>Australia</td><td>List(-55.3079, 108.918)</td><td>2019-06-23T22:16:34.000+0000</td></tr><tr><td>1268</td><td>Argentina</td><td>List(-41.7803, -177.23)</td><td>2019-07-06T04:10:29.000+0000</td></tr><tr><td>5309</td><td>Maldives</td><td>List(-89.4194, -84.2493)</td><td>2020-05-04T22:00:32.000+0000</td></tr><tr><td>1137</td><td>Seychelles</td><td>List(12.2544, 10.7361)</td><td>2020-12-26T00:56:04.000+0000</td></tr><tr><td>3716</td><td>Lithuania</td><td>List(32.6648, -16.0578)</td><td>2018-12-31T20:43:42.000+0000</td></tr><tr><td>3334</td><td>Anguilla</td><td>List(-89.0609, -170.904)</td><td>2019-09-26T20:13:48.000+0000</td></tr><tr><td>2565</td><td>Bulgaria</td><td>List(-87.4992, -177.336)</td><td>2022-02-06T13:42:35.000+0000</td></tr><tr><td>3351</td><td>Portugal</td><td>List(-9.11859, -96.9091)</td><td>2020-09-12T10:34:11.000+0000</td></tr><tr><td>3945</td><td>Barbados</td><td>List(-66.2816, -142.673)</td><td>2022-04-17T02:01:53.000+0000</td></tr><tr><td>3360</td><td>Anguilla</td><td>List(-89.0609, -170.904)</td><td>2019-01-26T07:43:57.000+0000</td></tr><tr><td>6380</td><td>Argentina</td><td>List(-57.051, -133.377)</td><td>2017-12-21T21:46:23.000+0000</td></tr><tr><td>6299</td><td>Bangladesh</td><td>List(29.1899, 98.5863)</td><td>2022-10-05T06:08:34.000+0000</td></tr><tr><td>4027</td><td>Barbados</td><td>List(-69.7124, -165.207)</td><td>2019-01-23T20:53:22.000+0000</td></tr><tr><td>10931</td><td>Armenia</td><td>List(-82.9685, -178.095)</td><td>2021-03-20T06:14:31.000+0000</td></tr><tr><td>7896</td><td>Bulgaria</td><td>List(-64.1231, -164.904)</td><td>2020-06-02T13:49:36.000+0000</td></tr><tr><td>1631</td><td>Slovenia</td><td>List(-25.8117, -69.8618)</td><td>2020-08-24T10:43:22.000+0000</td></tr><tr><td>7511</td><td>Guatemala</td><td>List(85.0721, -128.483)</td><td>2019-10-25T19:38:50.000+0000</td></tr></tbody></table></div>"
      ]
     },
     "metadata": {
      "application/vnd.databricks.v1+output": {
       "addedWidgets": {},
       "aggData": [],
       "aggError": "",
       "aggOverflow": false,
       "aggSchema": [],
       "aggSeriesLimitReached": false,
       "aggType": "",
       "arguments": {},
       "columnCustomDisplayInfos": {},
       "data": [
        [
         10625,
         "Jamaica",
         [
          -84.4944,
          -81.0613
         ],
         "2018-07-13T11:51:15.000+0000"
        ],
        [
         9875,
         "Barbados",
         [
          -74.3382,
          -110.484
         ],
         "2020-03-20T13:03:18.000+0000"
        ],
        [
         8887,
         "Botswana",
         [
          -28.0137,
          -160.708
         ],
         "2021-09-19T05:27:43.000+0000"
        ],
        [
         4137,
         "Australia",
         [
          -55.3079,
          108.918
         ],
         "2019-06-23T22:16:34.000+0000"
        ],
        [
         1268,
         "Argentina",
         [
          -41.7803,
          -177.23
         ],
         "2019-07-06T04:10:29.000+0000"
        ],
        [
         5309,
         "Maldives",
         [
          -89.4194,
          -84.2493
         ],
         "2020-05-04T22:00:32.000+0000"
        ],
        [
         1137,
         "Seychelles",
         [
          12.2544,
          10.7361
         ],
         "2020-12-26T00:56:04.000+0000"
        ],
        [
         3716,
         "Lithuania",
         [
          32.6648,
          -16.0578
         ],
         "2018-12-31T20:43:42.000+0000"
        ],
        [
         3334,
         "Anguilla",
         [
          -89.0609,
          -170.904
         ],
         "2019-09-26T20:13:48.000+0000"
        ],
        [
         2565,
         "Bulgaria",
         [
          -87.4992,
          -177.336
         ],
         "2022-02-06T13:42:35.000+0000"
        ],
        [
         3351,
         "Portugal",
         [
          -9.11859,
          -96.9091
         ],
         "2020-09-12T10:34:11.000+0000"
        ],
        [
         3945,
         "Barbados",
         [
          -66.2816,
          -142.673
         ],
         "2022-04-17T02:01:53.000+0000"
        ],
        [
         3360,
         "Anguilla",
         [
          -89.0609,
          -170.904
         ],
         "2019-01-26T07:43:57.000+0000"
        ],
        [
         6380,
         "Argentina",
         [
          -57.051,
          -133.377
         ],
         "2017-12-21T21:46:23.000+0000"
        ],
        [
         6299,
         "Bangladesh",
         [
          29.1899,
          98.5863
         ],
         "2022-10-05T06:08:34.000+0000"
        ],
        [
         4027,
         "Barbados",
         [
          -69.7124,
          -165.207
         ],
         "2019-01-23T20:53:22.000+0000"
        ],
        [
         10931,
         "Armenia",
         [
          -82.9685,
          -178.095
         ],
         "2021-03-20T06:14:31.000+0000"
        ],
        [
         7896,
         "Bulgaria",
         [
          -64.1231,
          -164.904
         ],
         "2020-06-02T13:49:36.000+0000"
        ],
        [
         1631,
         "Slovenia",
         [
          -25.8117,
          -69.8618
         ],
         "2020-08-24T10:43:22.000+0000"
        ],
        [
         7511,
         "Guatemala",
         [
          85.0721,
          -128.483
         ],
         "2019-10-25T19:38:50.000+0000"
        ]
       ],
       "datasetInfos": [],
       "dbfsResultPath": null,
       "isJsonSchema": true,
       "metadata": {},
       "overflow": false,
       "plotOptions": {
        "customPlotOptions": {},
        "displayType": "table",
        "pivotAggregation": null,
        "pivotColumns": null,
        "xColumns": null,
        "yColumns": null
       },
       "removedWidgets": [],
       "schema": [
        {
         "metadata": "{}",
         "name": "ind",
         "type": "\"long\""
        },
        {
         "metadata": "{}",
         "name": "country",
         "type": "\"string\""
        },
        {
         "metadata": "{}",
         "name": "coordinates",
         "type": "{\"type\":\"array\",\"elementType\":\"double\",\"containsNull\":true}"
        },
        {
         "metadata": "{}",
         "name": "timestamp",
         "type": "\"timestamp\""
        }
       ],
       "type": "table"
      }
     },
     "output_type": "display_data"
    },
    {
     "data": {
      "text/html": [
       "<style scoped>\n",
       "  .table-result-container {\n",
       "    max-height: 300px;\n",
       "    overflow: auto;\n",
       "  }\n",
       "  table, th, td {\n",
       "    border: 1px solid black;\n",
       "    border-collapse: collapse;\n",
       "  }\n",
       "  th, td {\n",
       "    padding: 5px;\n",
       "  }\n",
       "  th {\n",
       "    text-align: left;\n",
       "  }\n",
       "</style><div class='table-result-container'><table class='table-result'><thead style='background-color: white'><tr><th>ind</th><th>user_name</th><th>age</th><th>date_joined</th></tr></thead><tbody><tr><td>8081</td><td>Carmen Taylor</td><td>40</td><td>2016-08-02T19:06:12.000+0000</td></tr><tr><td>310</td><td>Amanda Benitez</td><td>21</td><td>2015-11-01T09:16:18.000+0000</td></tr><tr><td>10052</td><td>Jamie Bryant</td><td>20</td><td>2017-06-17T20:00:37.000+0000</td></tr><tr><td>6939</td><td>Erin Thompson</td><td>35</td><td>2016-10-21T03:38:15.000+0000</td></tr><tr><td>10087</td><td>Danny Ramsey</td><td>22</td><td>2016-07-03T13:53:31.000+0000</td></tr><tr><td>10050</td><td>Carla Arnold</td><td>34</td><td>2015-12-20T18:05:14.000+0000</td></tr><tr><td>6341</td><td>Barbara Duran</td><td>22</td><td>2016-11-07T11:01:26.000+0000</td></tr><tr><td>10783</td><td>Jane Aguilar</td><td>32</td><td>2016-03-02T01:25:48.000+0000</td></tr><tr><td>6747</td><td>Matthew Simon</td><td>58</td><td>2017-06-17T04:42:14.000+0000</td></tr><tr><td>2011</td><td>Adam Anderson</td><td>34</td><td>2016-03-14T20:42:08.000+0000</td></tr><tr><td>5647</td><td>Calvin Atkins</td><td>27</td><td>2016-08-31T20:20:25.000+0000</td></tr><tr><td>10931</td><td>Aaron Bailey</td><td>20</td><td>2015-11-02T04:40:42.000+0000</td></tr><tr><td>6496</td><td>Cindy Bennett</td><td>26</td><td>2016-01-03T06:10:45.000+0000</td></tr><tr><td>4654</td><td>Nathan Howard</td><td>37</td><td>2016-03-06T21:35:04.000+0000</td></tr><tr><td>7940</td><td>Andrew Arnold</td><td>21</td><td>2015-12-02T08:29:10.000+0000</td></tr><tr><td>9475</td><td>Jessica Mejia</td><td>40</td><td>2016-01-03T12:03:05.000+0000</td></tr><tr><td>8448</td><td>Joseph Church</td><td>31</td><td>2017-04-29T03:22:38.000+0000</td></tr><tr><td>2315</td><td>Ashley Briggs</td><td>38</td><td>2015-11-15T16:53:09.000+0000</td></tr><tr><td>1631</td><td>Lauren Powell</td><td>30</td><td>2016-05-22T08:40:37.000+0000</td></tr><tr><td>1139</td><td>Jeffrey Smith</td><td>30</td><td>2016-10-26T06:53:14.000+0000</td></tr></tbody></table></div>"
      ]
     },
     "metadata": {
      "application/vnd.databricks.v1+output": {
       "addedWidgets": {},
       "aggData": [],
       "aggError": "",
       "aggOverflow": false,
       "aggSchema": [],
       "aggSeriesLimitReached": false,
       "aggType": "",
       "arguments": {},
       "columnCustomDisplayInfos": {},
       "data": [
        [
         8081,
         "Carmen Taylor",
         40,
         "2016-08-02T19:06:12.000+0000"
        ],
        [
         310,
         "Amanda Benitez",
         21,
         "2015-11-01T09:16:18.000+0000"
        ],
        [
         10052,
         "Jamie Bryant",
         20,
         "2017-06-17T20:00:37.000+0000"
        ],
        [
         6939,
         "Erin Thompson",
         35,
         "2016-10-21T03:38:15.000+0000"
        ],
        [
         10087,
         "Danny Ramsey",
         22,
         "2016-07-03T13:53:31.000+0000"
        ],
        [
         10050,
         "Carla Arnold",
         34,
         "2015-12-20T18:05:14.000+0000"
        ],
        [
         6341,
         "Barbara Duran",
         22,
         "2016-11-07T11:01:26.000+0000"
        ],
        [
         10783,
         "Jane Aguilar",
         32,
         "2016-03-02T01:25:48.000+0000"
        ],
        [
         6747,
         "Matthew Simon",
         58,
         "2017-06-17T04:42:14.000+0000"
        ],
        [
         2011,
         "Adam Anderson",
         34,
         "2016-03-14T20:42:08.000+0000"
        ],
        [
         5647,
         "Calvin Atkins",
         27,
         "2016-08-31T20:20:25.000+0000"
        ],
        [
         10931,
         "Aaron Bailey",
         20,
         "2015-11-02T04:40:42.000+0000"
        ],
        [
         6496,
         "Cindy Bennett",
         26,
         "2016-01-03T06:10:45.000+0000"
        ],
        [
         4654,
         "Nathan Howard",
         37,
         "2016-03-06T21:35:04.000+0000"
        ],
        [
         7940,
         "Andrew Arnold",
         21,
         "2015-12-02T08:29:10.000+0000"
        ],
        [
         9475,
         "Jessica Mejia",
         40,
         "2016-01-03T12:03:05.000+0000"
        ],
        [
         8448,
         "Joseph Church",
         31,
         "2017-04-29T03:22:38.000+0000"
        ],
        [
         2315,
         "Ashley Briggs",
         38,
         "2015-11-15T16:53:09.000+0000"
        ],
        [
         1631,
         "Lauren Powell",
         30,
         "2016-05-22T08:40:37.000+0000"
        ],
        [
         1139,
         "Jeffrey Smith",
         30,
         "2016-10-26T06:53:14.000+0000"
        ]
       ],
       "datasetInfos": [],
       "dbfsResultPath": null,
       "isJsonSchema": true,
       "metadata": {},
       "overflow": false,
       "plotOptions": {
        "customPlotOptions": {},
        "displayType": "table",
        "pivotAggregation": null,
        "pivotColumns": null,
        "xColumns": null,
        "yColumns": null
       },
       "removedWidgets": [],
       "schema": [
        {
         "metadata": "{}",
         "name": "ind",
         "type": "\"long\""
        },
        {
         "metadata": "{}",
         "name": "user_name",
         "type": "\"string\""
        },
        {
         "metadata": "{}",
         "name": "age",
         "type": "\"long\""
        },
        {
         "metadata": "{}",
         "name": "date_joined",
         "type": "\"timestamp\""
        }
       ],
       "type": "table"
      }
     },
     "output_type": "display_data"
    }
   ],
   "source": [
    "df_pin = spark.read.parquet('dbfs:/user/hive/warehouse/<your_UserId>_pin_table')\n",
    "df_geo = spark.read.parquet('dbfs:/user/hive/warehouse/<your_UserId>_geo_table')\n",
    "df_user = spark.read.parquet('dbfs:/user/hive/warehouse/<your_UserId>_user_table')\n",
    "\n",
    "display(df_pin.limit(20))\n",
    "display(df_geo.limit(20))\n",
    "display(df_user.limit(20))\n"
   ]
  },
  {
   "cell_type": "code",
   "execution_count": null,
   "metadata": {
    "application/vnd.databricks.v1+cell": {
     "cellMetadata": {
      "byteLimit": 2048000,
      "rowLimit": 10000
     },
     "inputWidgets": {},
     "nuid": "25ec0f9a-44a2-4e9e-bc1c-9b528d580964",
     "showTitle": false,
     "title": ""
    }
   },
   "outputs": [
    {
     "data": {
      "text/html": [
       "<style scoped>\n",
       "  .ansiout {\n",
       "    display: block;\n",
       "    unicode-bidi: embed;\n",
       "    white-space: pre-wrap;\n",
       "    word-wrap: break-word;\n",
       "    word-break: break-all;\n",
       "    font-family: \"Menlo\", \"Monaco\", \"Consolas\", \"Ubuntu Mono\", \"Source Code Pro\", monospace;\n",
       "    font-size: 13px;\n",
       "    color: #555;\n",
       "    margin-left: 4px;\n",
       "    line-height: 19px;\n",
       "  }\n",
       "</style>\n",
       "<div class=\"ansiout\"></div>"
      ]
     },
     "metadata": {
      "application/vnd.databricks.v1+output": {
       "addedWidgets": {},
       "arguments": {},
       "data": "<div class=\"ansiout\"></div>",
       "datasetInfos": [],
       "metadata": {},
       "removedWidgets": [],
       "type": "html"
      }
     },
     "output_type": "display_data"
    }
   ],
   "source": [
    "from pyspark.sql.window import Window\n",
    "# from pyspark.sql.functions import *\n",
    "from pyspark.sql.functions import row_number, count, col, desc, rank, year, max, when, row_number, percentile_approx"
   ]
  },
  {
   "cell_type": "markdown",
   "metadata": {
    "application/vnd.databricks.v1+cell": {
     "cellMetadata": {
      "byteLimit": 2048000,
      "rowLimit": 10000
     },
     "inputWidgets": {},
     "nuid": "bb834f2b-d429-42e5-9963-6ac2ba25eb3e",
     "showTitle": false,
     "title": ""
    }
   },
   "source": [
    "# Q1. Find the most popular Pinterest category people post to based on their country.\n",
    "\n",
    "    Your query should return a DataFrame that contains the following columns:\n",
    "      country\n",
    "      category\n",
    "      category_count, a new column containing the desired query output"
   ]
  },
  {
   "cell_type": "code",
   "execution_count": null,
   "metadata": {
    "application/vnd.databricks.v1+cell": {
     "cellMetadata": {
      "byteLimit": 2048000,
      "rowLimit": 10000
     },
     "inputWidgets": {},
     "nuid": "53453258-ee12-4d83-8b6d-19fac6010fe5",
     "showTitle": false,
     "title": ""
    }
   },
   "outputs": [
    {
     "data": {
      "text/html": [
       "<style scoped>\n",
       "  .ansiout {\n",
       "    display: block;\n",
       "    unicode-bidi: embed;\n",
       "    white-space: pre-wrap;\n",
       "    word-wrap: break-word;\n",
       "    word-break: break-all;\n",
       "    font-family: \"Menlo\", \"Monaco\", \"Consolas\", \"Ubuntu Mono\", \"Source Code Pro\", monospace;\n",
       "    font-size: 13px;\n",
       "    color: #555;\n",
       "    margin-left: 4px;\n",
       "    line-height: 19px;\n",
       "  }\n",
       "</style>\n",
       "<div class=\"ansiout\">+--------------------+--------------+--------------+\n",
       "             country|      category|category_count|\n",
       "+--------------------+--------------+--------------+\n",
       "         Afghanistan|     education|            28|\n",
       "             Albania|  mens-fashion|            43|\n",
       "             Algeria|        quotes|            70|\n",
       "      American Samoa|        beauty|            35|\n",
       "             Andorra|           art|            26|\n",
       "              Angola|diy-and-crafts|            21|\n",
       "            Anguilla|diy-and-crafts|            21|\n",
       "Antarctica (the t...|     christmas|            17|\n",
       " Antigua and Barbuda|     christmas|            42|\n",
       "           Argentina|       tattoos|            29|\n",
       "             Armenia|diy-and-crafts|            53|\n",
       "               Aruba|  mens-fashion|            36|\n",
       "           Australia|  mens-fashion|            32|\n",
       "             Austria|        travel|            33|\n",
       "          Azerbaijan|event-planning|            27|\n",
       "             Bahamas|        travel|            16|\n",
       "             Bahrain|       finance|            17|\n",
       "          Bangladesh|           art|            20|\n",
       "            Barbados|        travel|            16|\n",
       "             Belarus|        travel|             2|\n",
       "+--------------------+--------------+--------------+\n",
       "only showing top 20 rows\n",
       "\n",
       "</div>"
      ]
     },
     "metadata": {
      "application/vnd.databricks.v1+output": {
       "addedWidgets": {},
       "arguments": {},
       "data": "<div class=\"ansiout\">+--------------------+--------------+--------------+\n|             country|      category|category_count|\n+--------------------+--------------+--------------+\n|         Afghanistan|     education|            28|\n|             Albania|  mens-fashion|            43|\n|             Algeria|        quotes|            70|\n|      American Samoa|        beauty|            35|\n|             Andorra|           art|            26|\n|              Angola|diy-and-crafts|            21|\n|            Anguilla|diy-and-crafts|            21|\n|Antarctica (the t...|     christmas|            17|\n| Antigua and Barbuda|     christmas|            42|\n|           Argentina|       tattoos|            29|\n|             Armenia|diy-and-crafts|            53|\n|               Aruba|  mens-fashion|            36|\n|           Australia|  mens-fashion|            32|\n|             Austria|        travel|            33|\n|          Azerbaijan|event-planning|            27|\n|             Bahamas|        travel|            16|\n|             Bahrain|       finance|            17|\n|          Bangladesh|           art|            20|\n|            Barbados|        travel|            16|\n|             Belarus|        travel|             2|\n+--------------------+--------------+--------------+\nonly showing top 20 rows\n\n</div>",
       "datasetInfos": [],
       "metadata": {},
       "removedWidgets": [],
       "type": "html"
      }
     },
     "output_type": "display_data"
    },
    {
     "data": {
      "text/html": [
       "<style scoped>\n",
       "  .table-result-container {\n",
       "    max-height: 300px;\n",
       "    overflow: auto;\n",
       "  }\n",
       "  table, th, td {\n",
       "    border: 1px solid black;\n",
       "    border-collapse: collapse;\n",
       "  }\n",
       "  th, td {\n",
       "    padding: 5px;\n",
       "  }\n",
       "  th {\n",
       "    text-align: left;\n",
       "  }\n",
       "</style><div class='table-result-container'><table class='table-result'><thead style='background-color: white'><tr><th>country</th><th>category</th><th>category_count</th></tr></thead><tbody><tr><td>Afghanistan</td><td>education</td><td>28</td></tr><tr><td>Albania</td><td>mens-fashion</td><td>43</td></tr><tr><td>Algeria</td><td>quotes</td><td>70</td></tr><tr><td>American Samoa</td><td>beauty</td><td>35</td></tr><tr><td>Andorra</td><td>art</td><td>26</td></tr><tr><td>Angola</td><td>diy-and-crafts</td><td>21</td></tr><tr><td>Anguilla</td><td>diy-and-crafts</td><td>21</td></tr><tr><td>Antarctica (the territory South of 60 deg S)</td><td>christmas</td><td>17</td></tr><tr><td>Antigua and Barbuda</td><td>christmas</td><td>42</td></tr><tr><td>Argentina</td><td>tattoos</td><td>29</td></tr><tr><td>Armenia</td><td>diy-and-crafts</td><td>53</td></tr><tr><td>Aruba</td><td>mens-fashion</td><td>36</td></tr><tr><td>Australia</td><td>mens-fashion</td><td>32</td></tr><tr><td>Austria</td><td>travel</td><td>33</td></tr><tr><td>Azerbaijan</td><td>event-planning</td><td>27</td></tr><tr><td>Bahamas</td><td>travel</td><td>16</td></tr><tr><td>Bahrain</td><td>finance</td><td>17</td></tr><tr><td>Bangladesh</td><td>art</td><td>20</td></tr><tr><td>Barbados</td><td>travel</td><td>16</td></tr><tr><td>Belarus</td><td>travel</td><td>2</td></tr></tbody></table></div>"
      ]
     },
     "metadata": {
      "application/vnd.databricks.v1+output": {
       "addedWidgets": {},
       "aggData": [],
       "aggError": "",
       "aggOverflow": false,
       "aggSchema": [],
       "aggSeriesLimitReached": false,
       "aggType": "",
       "arguments": {},
       "columnCustomDisplayInfos": {},
       "data": [
        [
         "Afghanistan",
         "education",
         28
        ],
        [
         "Albania",
         "mens-fashion",
         43
        ],
        [
         "Algeria",
         "quotes",
         70
        ],
        [
         "American Samoa",
         "beauty",
         35
        ],
        [
         "Andorra",
         "art",
         26
        ],
        [
         "Angola",
         "diy-and-crafts",
         21
        ],
        [
         "Anguilla",
         "diy-and-crafts",
         21
        ],
        [
         "Antarctica (the territory South of 60 deg S)",
         "christmas",
         17
        ],
        [
         "Antigua and Barbuda",
         "christmas",
         42
        ],
        [
         "Argentina",
         "tattoos",
         29
        ],
        [
         "Armenia",
         "diy-and-crafts",
         53
        ],
        [
         "Aruba",
         "mens-fashion",
         36
        ],
        [
         "Australia",
         "mens-fashion",
         32
        ],
        [
         "Austria",
         "travel",
         33
        ],
        [
         "Azerbaijan",
         "event-planning",
         27
        ],
        [
         "Bahamas",
         "travel",
         16
        ],
        [
         "Bahrain",
         "finance",
         17
        ],
        [
         "Bangladesh",
         "art",
         20
        ],
        [
         "Barbados",
         "travel",
         16
        ],
        [
         "Belarus",
         "travel",
         2
        ]
       ],
       "datasetInfos": [],
       "dbfsResultPath": null,
       "isJsonSchema": true,
       "metadata": {},
       "overflow": false,
       "plotOptions": {
        "customPlotOptions": {},
        "displayType": "table",
        "pivotAggregation": null,
        "pivotColumns": null,
        "xColumns": null,
        "yColumns": null
       },
       "removedWidgets": [],
       "schema": [
        {
         "metadata": "{}",
         "name": "country",
         "type": "\"string\""
        },
        {
         "metadata": "{}",
         "name": "category",
         "type": "\"string\""
        },
        {
         "metadata": "{}",
         "name": "category_count",
         "type": "\"long\""
        }
       ],
       "type": "table"
      }
     },
     "output_type": "display_data"
    }
   ],
   "source": [
    "# from pyspark.sql.window import Window\n",
    "# from pyspark.sql.functions import row_number, count, col, desc\n",
    "\n",
    "# Q1. Find the most popular category people post to in each country; Find the most popular Pinterest category people post to based on their country.\n",
    "\n",
    "# Joining the two DataFrames\n",
    "df_pin_geo = df_pin.join(df_geo, df_pin[\"ind\"] == df_geo[\"ind\"], how=\"inner\")\n",
    "\n",
    "# Grouping by country and category, and counting occurrences\n",
    "grouped_df = df_pin_geo.groupBy(\"country\", \"category\").agg(count(\"*\").alias(\"category_count\"))\n",
    "\n",
    "# Defining a Window specification for ranking categories within each country\n",
    "window_spec = Window.partitionBy(\"country\").orderBy(desc(\"category_count\"))\n",
    "\n",
    "# Ranking categories within each country based on their counts\n",
    "ranked_df = grouped_df.withColumn(\"rank\", row_number().over(window_spec))\n",
    "\n",
    "# Selecting only the top category for each country\n",
    "top_category_df = ranked_df.filter(col(\"rank\") == 1).drop(\"rank\")\n",
    "\n",
    "# Your query should return a DataFrame that contains the following columns:\n",
    "\n",
    "# country\n",
    "# category\n",
    "# category_count, a new column containing the desired query output\n",
    "\n",
    "# Displaying the DataFrame containing the top category for each country\n",
    "top_category_df.show()\n",
    "display(top_category_df.limit(20))"
   ]
  },
  {
   "cell_type": "markdown",
   "metadata": {
    "application/vnd.databricks.v1+cell": {
     "cellMetadata": {
      "byteLimit": 2048000,
      "rowLimit": 10000
     },
     "inputWidgets": {},
     "nuid": "11e60406-37bf-418e-b9e1-c879c58d4c3d",
     "showTitle": false,
     "title": ""
    }
   },
   "source": [
    "# Q2. Find which was the most popular category between 2018 and 2022 and the number of posts.\n",
    "\n",
    "    Your query should return a DataFrame that contains the following columns:\n",
    "    \n",
    "        post_year, a new column that contains only the year from the timestamp column\n",
    "        category\n",
    "        category_count, a new column containing the desired query output\n"
   ]
  },
  {
   "cell_type": "code",
   "execution_count": null,
   "metadata": {
    "application/vnd.databricks.v1+cell": {
     "cellMetadata": {
      "byteLimit": 2048000,
      "rowLimit": 10000
     },
     "inputWidgets": {},
     "nuid": "b84410f7-0e6b-406b-b739-a730b3386c91",
     "showTitle": false,
     "title": ""
    }
   },
   "outputs": [
    {
     "data": {
      "text/html": [
       "<style scoped>\n",
       "  .ansiout {\n",
       "    display: block;\n",
       "    unicode-bidi: embed;\n",
       "    white-space: pre-wrap;\n",
       "    word-wrap: break-word;\n",
       "    word-break: break-all;\n",
       "    font-family: \"Menlo\", \"Monaco\", \"Consolas\", \"Ubuntu Mono\", \"Source Code Pro\", monospace;\n",
       "    font-size: 13px;\n",
       "    color: #555;\n",
       "    margin-left: 4px;\n",
       "    line-height: 19px;\n",
       "  }\n",
       "</style>\n",
       "<div class=\"ansiout\">+---------+--------------+--------------+\n",
       "post_year|      category|category_count|\n",
       "+---------+--------------+--------------+\n",
       "     2018|           art|            98|\n",
       "     2019|diy-and-crafts|           127|\n",
       "     2020|        travel|            90|\n",
       "     2021|       finance|            94|\n",
       "     2022|        beauty|            96|\n",
       "+---------+--------------+--------------+\n",
       "\n",
       "</div>"
      ]
     },
     "metadata": {
      "application/vnd.databricks.v1+output": {
       "addedWidgets": {},
       "arguments": {},
       "data": "<div class=\"ansiout\">+---------+--------------+--------------+\n|post_year|      category|category_count|\n+---------+--------------+--------------+\n|     2018|           art|            98|\n|     2019|diy-and-crafts|           127|\n|     2020|        travel|            90|\n|     2021|       finance|            94|\n|     2022|        beauty|            96|\n+---------+--------------+--------------+\n\n</div>",
       "datasetInfos": [],
       "metadata": {},
       "removedWidgets": [],
       "type": "html"
      }
     },
     "output_type": "display_data"
    },
    {
     "data": {
      "text/html": [
       "<style scoped>\n",
       "  .table-result-container {\n",
       "    max-height: 300px;\n",
       "    overflow: auto;\n",
       "  }\n",
       "  table, th, td {\n",
       "    border: 1px solid black;\n",
       "    border-collapse: collapse;\n",
       "  }\n",
       "  th, td {\n",
       "    padding: 5px;\n",
       "  }\n",
       "  th {\n",
       "    text-align: left;\n",
       "  }\n",
       "</style><div class='table-result-container'><table class='table-result'><thead style='background-color: white'><tr><th>post_year</th><th>category</th><th>category_count</th></tr></thead><tbody><tr><td>2018</td><td>art</td><td>98</td></tr><tr><td>2019</td><td>diy-and-crafts</td><td>127</td></tr><tr><td>2020</td><td>travel</td><td>90</td></tr><tr><td>2021</td><td>finance</td><td>94</td></tr><tr><td>2022</td><td>beauty</td><td>96</td></tr></tbody></table></div>"
      ]
     },
     "metadata": {
      "application/vnd.databricks.v1+output": {
       "addedWidgets": {},
       "aggData": [],
       "aggError": "",
       "aggOverflow": false,
       "aggSchema": [],
       "aggSeriesLimitReached": false,
       "aggType": "",
       "arguments": {},
       "columnCustomDisplayInfos": {},
       "data": [
        [
         2018,
         "art",
         98
        ],
        [
         2019,
         "diy-and-crafts",
         127
        ],
        [
         2020,
         "travel",
         90
        ],
        [
         2021,
         "finance",
         94
        ],
        [
         2022,
         "beauty",
         96
        ]
       ],
       "datasetInfos": [],
       "dbfsResultPath": null,
       "isJsonSchema": true,
       "metadata": {},
       "overflow": false,
       "plotOptions": {
        "customPlotOptions": {},
        "displayType": "table",
        "pivotAggregation": null,
        "pivotColumns": null,
        "xColumns": null,
        "yColumns": null
       },
       "removedWidgets": [],
       "schema": [
        {
         "metadata": "{}",
         "name": "post_year",
         "type": "\"integer\""
        },
        {
         "metadata": "{}",
         "name": "category",
         "type": "\"string\""
        },
        {
         "metadata": "{}",
         "name": "category_count",
         "type": "\"long\""
        }
       ],
       "type": "table"
      }
     },
     "output_type": "display_data"
    }
   ],
   "source": [
    "# from pyspark.sql.window import Window\n",
    "# from pyspark.sql.functions import rank, year\n",
    "\n",
    "# Joining DataFrames\n",
    "df_pin_geo = df_pin.join(df_geo, df_pin[\"ind\"] == df_geo[\"ind\"], how=\"inner\")\n",
    "\n",
    "# Extract year from the timestamp column\n",
    "df_pin_geo = df_pin_geo.withColumn(\"post_year\", year(\"timestamp\"))\n",
    "\n",
    "# Filter years between 2018 and 2022\n",
    "df_pin_geo = df_pin_geo.filter((col(\"post_year\") >= 2018) & (col(\"post_year\") <= 2022))\n",
    "\n",
    "# Group by year and category, and count the occurrences\n",
    "df_pin_geo = df_pin_geo.groupBy(\"post_year\", \"category\").agg(count(\"*\").alias(\"category_count\"))\n",
    "\n",
    "# Find the row with the highest count for each year\n",
    "window_spec = Window.partitionBy(\"post_year\").orderBy(col(\"category_count\").desc())\n",
    "df_pin_geo = df_pin_geo.withColumn(\"rank\", rank().over(window_spec)).filter(col(\"rank\") == 1).drop(\"rank\")\n",
    "df_pin_geo = df_pin_geo.orderBy(\"post_year\", \"category_count\")\n",
    "\n",
    "df_pin_geo.show()\n",
    "display(df_pin_geo)\n"
   ]
  },
  {
   "cell_type": "markdown",
   "metadata": {
    "application/vnd.databricks.v1+cell": {
     "cellMetadata": {
      "byteLimit": 2048000,
      "rowLimit": 10000
     },
     "inputWidgets": {},
     "nuid": "a7400a53-77fa-4b3e-94f3-8e4a30dac501",
     "showTitle": false,
     "title": ""
    }
   },
   "source": [
    "# Q3. Find the user with the most followers in each country.\n",
    "\n",
    "    Step 1: For each country find the user with the most followers.\n",
    "\n",
    "      Your query should return a DataFrame that contains the following columns:\n",
    "\n",
    "      country\n",
    "      poster_name\n",
    "      follower_count\n",
    "    \n",
    "    Step 2: Based on the above query, find the country with the user with most followers.\n",
    "\n",
    "      Your query should return a DataFrame that contains the following columns:\n",
    "\n",
    "      country\n",
    "      follower_count\n",
    "      \n",
    "      This DataFrame should have only one entry."
   ]
  },
  {
   "cell_type": "code",
   "execution_count": null,
   "metadata": {
    "application/vnd.databricks.v1+cell": {
     "cellMetadata": {
      "byteLimit": 2048000,
      "rowLimit": 10000
     },
     "inputWidgets": {},
     "nuid": "0591c174-04e2-4f28-9eaf-5cf51f93ab35",
     "showTitle": false,
     "title": ""
    }
   },
   "outputs": [
    {
     "data": {
      "text/html": [
       "<style scoped>\n",
       "  .ansiout {\n",
       "    display: block;\n",
       "    unicode-bidi: embed;\n",
       "    white-space: pre-wrap;\n",
       "    word-wrap: break-word;\n",
       "    word-break: break-all;\n",
       "    font-family: \"Menlo\", \"Monaco\", \"Consolas\", \"Ubuntu Mono\", \"Source Code Pro\", monospace;\n",
       "    font-size: 13px;\n",
       "    color: #555;\n",
       "    margin-left: 4px;\n",
       "    line-height: 19px;\n",
       "  }\n",
       "</style>\n",
       "<div class=\"ansiout\">+--------------------+--------------------+--------------+\n",
       "             country|         poster_name|follower_count|\n",
       "+--------------------+--------------------+--------------+\n",
       "         Afghanistan|                9GAG|       3000000|\n",
       "             Albania|   The Minds Journal|       5000000|\n",
       "             Algeria|           YourTango|        942000|\n",
       "      American Samoa|         Mamas Uncut|       8000000|\n",
       "             Andorra|Teachers Pay Teac...|       1000000|\n",
       "              Angola|           Tastemade|       8000000|\n",
       "            Anguilla|Kristen | Lifesty...|         92000|\n",
       "Antarctica (the t...|          Refinery29|       1000000|\n",
       " Antigua and Barbuda|Country Living Ma...|       1000000|\n",
       "           Argentina|         Cheezburger|       2000000|\n",
       "             Armenia|Michelle {CraftyM...|        892000|\n",
       "               Aruba|         GQ Magazine|        874000|\n",
       "           Australia|        Mujer de 10 |       2000000|\n",
       "             Austria|               Diply|        251000|\n",
       "          Azerbaijan|     Style Me Pretty|       6000000|\n",
       "             Bahamas|  Handmade Charlotte|        948000|\n",
       "             Bahrain|Alea Milham | Pre...|        332000|\n",
       "          Bangladesh|Better Homes and ...|       4000000|\n",
       "            Barbados|The Creativity Ex...|        410000|\n",
       "             Belarus| Something Turquoise|        312000|\n",
       "+--------------------+--------------------+--------------+\n",
       "only showing top 20 rows\n",
       "\n",
       "</div>"
      ]
     },
     "metadata": {
      "application/vnd.databricks.v1+output": {
       "addedWidgets": {},
       "arguments": {},
       "data": "<div class=\"ansiout\">+--------------------+--------------------+--------------+\n|             country|         poster_name|follower_count|\n+--------------------+--------------------+--------------+\n|         Afghanistan|                9GAG|       3000000|\n|             Albania|   The Minds Journal|       5000000|\n|             Algeria|           YourTango|        942000|\n|      American Samoa|         Mamas Uncut|       8000000|\n|             Andorra|Teachers Pay Teac...|       1000000|\n|              Angola|           Tastemade|       8000000|\n|            Anguilla|Kristen | Lifesty...|         92000|\n|Antarctica (the t...|          Refinery29|       1000000|\n| Antigua and Barbuda|Country Living Ma...|       1000000|\n|           Argentina|         Cheezburger|       2000000|\n|             Armenia|Michelle {CraftyM...|        892000|\n|               Aruba|         GQ Magazine|        874000|\n|           Australia|        Mujer de 10 |       2000000|\n|             Austria|               Diply|        251000|\n|          Azerbaijan|     Style Me Pretty|       6000000|\n|             Bahamas|  Handmade Charlotte|        948000|\n|             Bahrain|Alea Milham | Pre...|        332000|\n|          Bangladesh|Better Homes and ...|       4000000|\n|            Barbados|The Creativity Ex...|        410000|\n|             Belarus| Something Turquoise|        312000|\n+--------------------+--------------------+--------------+\nonly showing top 20 rows\n\n</div>",
       "datasetInfos": [],
       "metadata": {},
       "removedWidgets": [],
       "type": "html"
      }
     },
     "output_type": "display_data"
    },
    {
     "data": {
      "text/html": [
       "<style scoped>\n",
       "  .table-result-container {\n",
       "    max-height: 300px;\n",
       "    overflow: auto;\n",
       "  }\n",
       "  table, th, td {\n",
       "    border: 1px solid black;\n",
       "    border-collapse: collapse;\n",
       "  }\n",
       "  th, td {\n",
       "    padding: 5px;\n",
       "  }\n",
       "  th {\n",
       "    text-align: left;\n",
       "  }\n",
       "</style><div class='table-result-container'><table class='table-result'><thead style='background-color: white'><tr><th>country</th><th>poster_name</th><th>follower_count</th></tr></thead><tbody><tr><td>Afghanistan</td><td>9GAG</td><td>3000000</td></tr><tr><td>Albania</td><td>The Minds Journal</td><td>5000000</td></tr><tr><td>Algeria</td><td>YourTango</td><td>942000</td></tr><tr><td>American Samoa</td><td>Mamas Uncut</td><td>8000000</td></tr><tr><td>Andorra</td><td>Teachers Pay Teachers</td><td>1000000</td></tr><tr><td>Angola</td><td>Tastemade</td><td>8000000</td></tr><tr><td>Anguilla</td><td>Kristen | Lifestyle, Mom Tips & Teacher Stuff Blog</td><td>92000</td></tr><tr><td>Antarctica (the territory South of 60 deg S)</td><td>Refinery29</td><td>1000000</td></tr><tr><td>Antigua and Barbuda</td><td>Country Living Magazine</td><td>1000000</td></tr><tr><td>Argentina</td><td>Cheezburger</td><td>2000000</td></tr><tr><td>Armenia</td><td>Michelle {CraftyMorning.com}</td><td>892000</td></tr><tr><td>Aruba</td><td>GQ Magazine</td><td>874000</td></tr><tr><td>Australia</td><td>Mujer de 10 </td><td>2000000</td></tr><tr><td>Austria</td><td>Diply</td><td>251000</td></tr><tr><td>Azerbaijan</td><td>Style Me Pretty</td><td>6000000</td></tr><tr><td>Bahamas</td><td>Handmade Charlotte</td><td>948000</td></tr><tr><td>Bahrain</td><td>Alea Milham | Premeditated Leftovers</td><td>332000</td></tr><tr><td>Bangladesh</td><td>Better Homes and Gardens</td><td>4000000</td></tr><tr><td>Barbados</td><td>The Creativity Exchange</td><td>410000</td></tr><tr><td>Belarus</td><td>Something Turquoise</td><td>312000</td></tr></tbody></table></div>"
      ]
     },
     "metadata": {
      "application/vnd.databricks.v1+output": {
       "addedWidgets": {},
       "aggData": [],
       "aggError": "",
       "aggOverflow": false,
       "aggSchema": [],
       "aggSeriesLimitReached": false,
       "aggType": "",
       "arguments": {},
       "columnCustomDisplayInfos": {},
       "data": [
        [
         "Afghanistan",
         "9GAG",
         3000000
        ],
        [
         "Albania",
         "The Minds Journal",
         5000000
        ],
        [
         "Algeria",
         "YourTango",
         942000
        ],
        [
         "American Samoa",
         "Mamas Uncut",
         8000000
        ],
        [
         "Andorra",
         "Teachers Pay Teachers",
         1000000
        ],
        [
         "Angola",
         "Tastemade",
         8000000
        ],
        [
         "Anguilla",
         "Kristen | Lifestyle, Mom Tips & Teacher Stuff Blog",
         92000
        ],
        [
         "Antarctica (the territory South of 60 deg S)",
         "Refinery29",
         1000000
        ],
        [
         "Antigua and Barbuda",
         "Country Living Magazine",
         1000000
        ],
        [
         "Argentina",
         "Cheezburger",
         2000000
        ],
        [
         "Armenia",
         "Michelle {CraftyMorning.com}",
         892000
        ],
        [
         "Aruba",
         "GQ Magazine",
         874000
        ],
        [
         "Australia",
         "Mujer de 10 ",
         2000000
        ],
        [
         "Austria",
         "Diply",
         251000
        ],
        [
         "Azerbaijan",
         "Style Me Pretty",
         6000000
        ],
        [
         "Bahamas",
         "Handmade Charlotte",
         948000
        ],
        [
         "Bahrain",
         "Alea Milham | Premeditated Leftovers",
         332000
        ],
        [
         "Bangladesh",
         "Better Homes and Gardens",
         4000000
        ],
        [
         "Barbados",
         "The Creativity Exchange",
         410000
        ],
        [
         "Belarus",
         "Something Turquoise",
         312000
        ]
       ],
       "datasetInfos": [],
       "dbfsResultPath": null,
       "isJsonSchema": true,
       "metadata": {},
       "overflow": false,
       "plotOptions": {
        "customPlotOptions": {},
        "displayType": "table",
        "pivotAggregation": null,
        "pivotColumns": null,
        "xColumns": null,
        "yColumns": null
       },
       "removedWidgets": [],
       "schema": [
        {
         "metadata": "{}",
         "name": "country",
         "type": "\"string\""
        },
        {
         "metadata": "{}",
         "name": "poster_name",
         "type": "\"string\""
        },
        {
         "metadata": "{}",
         "name": "follower_count",
         "type": "\"integer\""
        }
       ],
       "type": "table"
      }
     },
     "output_type": "display_data"
    },
    {
     "data": {
      "text/html": [
       "<style scoped>\n",
       "  .ansiout {\n",
       "    display: block;\n",
       "    unicode-bidi: embed;\n",
       "    white-space: pre-wrap;\n",
       "    word-wrap: break-word;\n",
       "    word-break: break-all;\n",
       "    font-family: \"Menlo\", \"Monaco\", \"Consolas\", \"Ubuntu Mono\", \"Source Code Pro\", monospace;\n",
       "    font-size: 13px;\n",
       "    color: #555;\n",
       "    margin-left: 4px;\n",
       "    line-height: 19px;\n",
       "  }\n",
       "</style>\n",
       "<div class=\"ansiout\">8000000\n",
       "+--------------+-----------+--------------+\n",
       "       country|poster_name|follower_count|\n",
       "+--------------+-----------+--------------+\n",
       "American Samoa|Mamas Uncut|       8000000|\n",
       "+--------------+-----------+--------------+\n",
       "\n",
       "</div>"
      ]
     },
     "metadata": {
      "application/vnd.databricks.v1+output": {
       "addedWidgets": {},
       "arguments": {},
       "data": "<div class=\"ansiout\">8000000\n+--------------+-----------+--------------+\n|       country|poster_name|follower_count|\n+--------------+-----------+--------------+\n|American Samoa|Mamas Uncut|       8000000|\n+--------------+-----------+--------------+\n\n</div>",
       "datasetInfos": [],
       "metadata": {},
       "removedWidgets": [],
       "type": "html"
      }
     },
     "output_type": "display_data"
    },
    {
     "data": {
      "text/html": [
       "<style scoped>\n",
       "  .table-result-container {\n",
       "    max-height: 300px;\n",
       "    overflow: auto;\n",
       "  }\n",
       "  table, th, td {\n",
       "    border: 1px solid black;\n",
       "    border-collapse: collapse;\n",
       "  }\n",
       "  th, td {\n",
       "    padding: 5px;\n",
       "  }\n",
       "  th {\n",
       "    text-align: left;\n",
       "  }\n",
       "</style><div class='table-result-container'><table class='table-result'><thead style='background-color: white'><tr><th>country</th><th>poster_name</th><th>follower_count</th></tr></thead><tbody><tr><td>American Samoa</td><td>Mamas Uncut</td><td>8000000</td></tr></tbody></table></div>"
      ]
     },
     "metadata": {
      "application/vnd.databricks.v1+output": {
       "addedWidgets": {},
       "aggData": [],
       "aggError": "",
       "aggOverflow": false,
       "aggSchema": [],
       "aggSeriesLimitReached": false,
       "aggType": "",
       "arguments": {},
       "columnCustomDisplayInfos": {},
       "data": [
        [
         "American Samoa",
         "Mamas Uncut",
         8000000
        ]
       ],
       "datasetInfos": [],
       "dbfsResultPath": null,
       "isJsonSchema": true,
       "metadata": {},
       "overflow": false,
       "plotOptions": {
        "customPlotOptions": {},
        "displayType": "table",
        "pivotAggregation": null,
        "pivotColumns": null,
        "xColumns": null,
        "yColumns": null
       },
       "removedWidgets": [],
       "schema": [
        {
         "metadata": "{}",
         "name": "country",
         "type": "\"string\""
        },
        {
         "metadata": "{}",
         "name": "poster_name",
         "type": "\"string\""
        },
        {
         "metadata": "{}",
         "name": "follower_count",
         "type": "\"integer\""
        }
       ],
       "type": "table"
      }
     },
     "output_type": "display_data"
    }
   ],
   "source": [
    "# from pyspark.sql.functions import col\n",
    "# from pyspark.sql.window import Window\n",
    "\n",
    "# Q3. Find the user with the most followers in each country.\n",
    "\n",
    "    # Step 1: For each country find the user with the most followers.\n",
    "    #   Your query should return a DataFrame that contains the following columns:\n",
    "    #   country\n",
    "    #   poster_name\n",
    "    #   follower_count\n",
    "\n",
    "# Joining the two DataFrames\n",
    "df_pin_geo = df_pin.join(df_geo, df_pin[\"ind\"] == df_geo[\"ind\"], how=\"inner\")\n",
    "\n",
    "# Find the country with the highest follower_count\n",
    "window_spec = Window.partitionBy(\"country\").orderBy(col(\"follower_count\").desc())\n",
    "\n",
    "df_pin_geo = df_pin_geo.withColumn(\"rank\", row_number().over(window_spec)).filter(col(\"rank\") == 1).drop(\"rank\")\n",
    "df_max_followers_per_country = df_pin_geo.select(\"country\", \"poster_name\", \"follower_count\")\n",
    "\n",
    "df_max_followers_per_country.show()\n",
    "display(df_max_followers_per_country.limit(20))\n",
    "\n",
    "    # Step 2: Based on the above query, find the country with the user with most followers.\n",
    "    #   Your query should return a DataFrame that contains the following columns:\n",
    "    #   country\n",
    "    #   follower_count\n",
    "\n",
    "    #   This DataFrame should have only one entry.\n",
    "\n",
    "# Get the maximum follower count\n",
    "mask_most_followers = df_max_followers_per_country.agg(max(\"follower_count\").alias(\"max_follower_count\")).collect()[0][\"max_follower_count\"]\n",
    "\n",
    "print(mask_most_followers)\n",
    "\n",
    "# Filter the original DataFrame to find the country with with the maximum follower count\n",
    "df_country_with_max_followers = df_max_followers_per_country.filter(col(\"follower_count\") == mask_most_followers).limit(1)\n",
    "\n",
    "df_country_with_max_followers.show()\n",
    "display(df_country_with_max_followers)"
   ]
  },
  {
   "cell_type": "markdown",
   "metadata": {
    "application/vnd.databricks.v1+cell": {
     "cellMetadata": {
      "byteLimit": 2048000,
      "rowLimit": 10000
     },
     "inputWidgets": {},
     "nuid": "29132048-8fbe-4593-a44e-67694f430f7f",
     "showTitle": false,
     "title": ""
    }
   },
   "source": [
    "# Q4. Find the most popular category for different age groups.\n",
    "\n",
    "    What is the most popular category people post to based on the following age groups:\n",
    "\n",
    "      18-24\n",
    "      25-35\n",
    "      36-50\n",
    "      +50\n",
    "\n",
    "      Your query should return a DataFrame that contains the following columns:\n",
    "\n",
    "      age_group, a new column based on the original age column\n",
    "      category\n",
    "      category_count, a new column containing the desired query output\n",
    "      Getting stuck on this task? Click here to book a call to one of our support engineers"
   ]
  },
  {
   "cell_type": "code",
   "execution_count": null,
   "metadata": {
    "application/vnd.databricks.v1+cell": {
     "cellMetadata": {
      "byteLimit": 2048000,
      "rowLimit": 10000
     },
     "inputWidgets": {},
     "nuid": "e900e249-8c6b-4d05-bce1-ec8f367fe2f9",
     "showTitle": false,
     "title": ""
    }
   },
   "outputs": [
    {
     "data": {
      "text/html": [
       "<style scoped>\n",
       "  .ansiout {\n",
       "    display: block;\n",
       "    unicode-bidi: embed;\n",
       "    white-space: pre-wrap;\n",
       "    word-wrap: break-word;\n",
       "    word-break: break-all;\n",
       "    font-family: \"Menlo\", \"Monaco\", \"Consolas\", \"Ubuntu Mono\", \"Source Code Pro\", monospace;\n",
       "    font-size: 13px;\n",
       "    color: #555;\n",
       "    margin-left: 4px;\n",
       "    line-height: 19px;\n",
       "  }\n",
       "</style>\n",
       "<div class=\"ansiout\">+---------+--------------+--------------+\n",
       "age_group|      category|category_count|\n",
       "+---------+--------------+--------------+\n",
       "    18-24|     christmas|           209|\n",
       "    25-35|           art|           136|\n",
       "    36-50|diy-and-crafts|            88|\n",
       "      50+|        beauty|            53|\n",
       "+---------+--------------+--------------+\n",
       "\n",
       "</div>"
      ]
     },
     "metadata": {
      "application/vnd.databricks.v1+output": {
       "addedWidgets": {},
       "arguments": {},
       "data": "<div class=\"ansiout\">+---------+--------------+--------------+\n|age_group|      category|category_count|\n+---------+--------------+--------------+\n|    18-24|     christmas|           209|\n|    25-35|           art|           136|\n|    36-50|diy-and-crafts|            88|\n|      50+|        beauty|            53|\n+---------+--------------+--------------+\n\n</div>",
       "datasetInfos": [],
       "metadata": {},
       "removedWidgets": [],
       "type": "html"
      }
     },
     "output_type": "display_data"
    },
    {
     "data": {
      "text/html": [
       "<style scoped>\n",
       "  .table-result-container {\n",
       "    max-height: 300px;\n",
       "    overflow: auto;\n",
       "  }\n",
       "  table, th, td {\n",
       "    border: 1px solid black;\n",
       "    border-collapse: collapse;\n",
       "  }\n",
       "  th, td {\n",
       "    padding: 5px;\n",
       "  }\n",
       "  th {\n",
       "    text-align: left;\n",
       "  }\n",
       "</style><div class='table-result-container'><table class='table-result'><thead style='background-color: white'><tr><th>age_group</th><th>category</th><th>category_count</th></tr></thead><tbody><tr><td>18-24</td><td>christmas</td><td>209</td></tr><tr><td>25-35</td><td>art</td><td>136</td></tr><tr><td>36-50</td><td>diy-and-crafts</td><td>88</td></tr><tr><td>50+</td><td>beauty</td><td>53</td></tr></tbody></table></div>"
      ]
     },
     "metadata": {
      "application/vnd.databricks.v1+output": {
       "addedWidgets": {},
       "aggData": [],
       "aggError": "",
       "aggOverflow": false,
       "aggSchema": [],
       "aggSeriesLimitReached": false,
       "aggType": "",
       "arguments": {},
       "columnCustomDisplayInfos": {},
       "data": [
        [
         "18-24",
         "christmas",
         209
        ],
        [
         "25-35",
         "art",
         136
        ],
        [
         "36-50",
         "diy-and-crafts",
         88
        ],
        [
         "50+",
         "beauty",
         53
        ]
       ],
       "datasetInfos": [],
       "dbfsResultPath": null,
       "isJsonSchema": true,
       "metadata": {},
       "overflow": false,
       "plotOptions": {
        "customPlotOptions": {},
        "displayType": "table",
        "pivotAggregation": null,
        "pivotColumns": null,
        "xColumns": null,
        "yColumns": null
       },
       "removedWidgets": [],
       "schema": [
        {
         "metadata": "{}",
         "name": "age_group",
         "type": "\"string\""
        },
        {
         "metadata": "{}",
         "name": "category",
         "type": "\"string\""
        },
        {
         "metadata": "{}",
         "name": "category_count",
         "type": "\"long\""
        }
       ],
       "type": "table"
      }
     },
     "output_type": "display_data"
    }
   ],
   "source": [
    "# from pyspark.sql.functions import col, count, when, row_number\n",
    "# from pyspark.sql.window import Window\n",
    "\n",
    "# Joining the two DataFrames\n",
    "df_pin_user = df_pin.join(df_user, df_pin[\"ind\"] == df_user[\"ind\"], how=\"inner\")\n",
    "\n",
    "# Creates age_group column\n",
    "df_pin_user_grouped_age = df_pin_user.withColumn(\"age_group\", \\\n",
    "                                    when(col(\"age\").between(18, 24), \"18-24\") \\\n",
    "                                    .when(col(\"age\").between(25, 35), \"25-35\") \\\n",
    "                                    .when(col(\"age\").between(36, 50), \"36-50\") \\\n",
    "                                    .otherwise(\"50+\"))\n",
    "\n",
    "# Creates partition by age_group and order by category_count descending\n",
    "window_spec = Window.partitionBy(\"age_group\").orderBy(col(\"category_count\").desc())\n",
    "\n",
    "# Finds the most popular category in each age group\n",
    "df_popular_cat_per_age_group = df_pin_user_grouped_age.groupBy(\"age_group\", \"category\") \\\n",
    "                                                        .agg(count(\"*\") \\\n",
    "                                                        .alias(\"category_count\"))\n",
    "\n",
    "df_popular_cat_per_age_group = df_popular_cat_per_age_group.withColumn(\"rank\", row_number().over(window_spec))\\\n",
    "                                                            .filter(col(\"rank\") == 1)\\\n",
    "                                                            .drop(\"rank\")\n",
    "            \n",
    "df_popular_cat_per_age_group.show()\n",
    "display(df_popular_cat_per_age_group)"
   ]
  },
  {
   "cell_type": "markdown",
   "metadata": {
    "application/vnd.databricks.v1+cell": {
     "cellMetadata": {
      "byteLimit": 2048000,
      "rowLimit": 10000
     },
     "inputWidgets": {},
     "nuid": "6f83c82a-136e-418d-98c3-46f9a9d9d6e8",
     "showTitle": false,
     "title": ""
    }
   },
   "source": [
    "# Q5. Find the median follower count for different age groups.\n",
    "\n",
    "    What is the median follower count for users in the following age groups:\n",
    "\n",
    "      18-24\n",
    "      25-35\n",
    "      36-50\n",
    "      +50\n",
    "      \n",
    "      Your query should return a DataFrame that contains the following columns:\n",
    "\n",
    "      age_group, a new column based on the original age column\n",
    "      median_follower_count, a new column containing the desired query output"
   ]
  },
  {
   "cell_type": "code",
   "execution_count": null,
   "metadata": {
    "application/vnd.databricks.v1+cell": {
     "cellMetadata": {
      "byteLimit": 2048000,
      "rowLimit": 10000
     },
     "inputWidgets": {},
     "nuid": "47a8c8af-e90f-4eef-81bc-0753885a5633",
     "showTitle": false,
     "title": ""
    }
   },
   "outputs": [
    {
     "data": {
      "text/html": [
       "<style scoped>\n",
       "  .ansiout {\n",
       "    display: block;\n",
       "    unicode-bidi: embed;\n",
       "    white-space: pre-wrap;\n",
       "    word-wrap: break-word;\n",
       "    word-break: break-all;\n",
       "    font-family: \"Menlo\", \"Monaco\", \"Consolas\", \"Ubuntu Mono\", \"Source Code Pro\", monospace;\n",
       "    font-size: 13px;\n",
       "    color: #555;\n",
       "    margin-left: 4px;\n",
       "    line-height: 19px;\n",
       "  }\n",
       "</style>\n",
       "<div class=\"ansiout\">+---------+---------------------+\n",
       "age_group|median_follower_count|\n",
       "+---------+---------------------+\n",
       "    18-24|               108000|\n",
       "    25-35|                34000|\n",
       "    36-50|                 6000|\n",
       "      50+|                 3000|\n",
       "+---------+---------------------+\n",
       "\n",
       "</div>"
      ]
     },
     "metadata": {
      "application/vnd.databricks.v1+output": {
       "addedWidgets": {},
       "arguments": {},
       "data": "<div class=\"ansiout\">+---------+---------------------+\n|age_group|median_follower_count|\n+---------+---------------------+\n|    18-24|               108000|\n|    25-35|                34000|\n|    36-50|                 6000|\n|      50+|                 3000|\n+---------+---------------------+\n\n</div>",
       "datasetInfos": [],
       "metadata": {},
       "removedWidgets": [],
       "type": "html"
      }
     },
     "output_type": "display_data"
    },
    {
     "data": {
      "text/html": [
       "<style scoped>\n",
       "  .table-result-container {\n",
       "    max-height: 300px;\n",
       "    overflow: auto;\n",
       "  }\n",
       "  table, th, td {\n",
       "    border: 1px solid black;\n",
       "    border-collapse: collapse;\n",
       "  }\n",
       "  th, td {\n",
       "    padding: 5px;\n",
       "  }\n",
       "  th {\n",
       "    text-align: left;\n",
       "  }\n",
       "</style><div class='table-result-container'><table class='table-result'><thead style='background-color: white'><tr><th>age_group</th><th>median_follower_count</th></tr></thead><tbody><tr><td>18-24</td><td>108000</td></tr><tr><td>25-35</td><td>34000</td></tr><tr><td>36-50</td><td>6000</td></tr><tr><td>50+</td><td>3000</td></tr></tbody></table></div>"
      ]
     },
     "metadata": {
      "application/vnd.databricks.v1+output": {
       "addedWidgets": {},
       "aggData": [],
       "aggError": "",
       "aggOverflow": false,
       "aggSchema": [],
       "aggSeriesLimitReached": false,
       "aggType": "",
       "arguments": {},
       "columnCustomDisplayInfos": {},
       "data": [
        [
         "18-24",
         108000
        ],
        [
         "25-35",
         34000
        ],
        [
         "36-50",
         6000
        ],
        [
         "50+",
         3000
        ]
       ],
       "datasetInfos": [],
       "dbfsResultPath": null,
       "isJsonSchema": true,
       "metadata": {},
       "overflow": false,
       "plotOptions": {
        "customPlotOptions": {},
        "displayType": "table",
        "pivotAggregation": null,
        "pivotColumns": null,
        "xColumns": null,
        "yColumns": null
       },
       "removedWidgets": [],
       "schema": [
        {
         "metadata": "{}",
         "name": "age_group",
         "type": "\"string\""
        },
        {
         "metadata": "{}",
         "name": "median_follower_count",
         "type": "\"integer\""
        }
       ],
       "type": "table"
      }
     },
     "output_type": "display_data"
    }
   ],
   "source": [
    "# from pyspark.sql.functions import col, when, percentile_approx \n",
    "\n",
    "# Joining the two DataFrames\n",
    "df_pin_user = df_pin.join(df_user, df_pin[\"ind\"] == df_user[\"ind\"], how=\"inner\")\n",
    "\n",
    "# Creates age_group column\n",
    "df_pin_user_grouped_age = df_pin_user.withColumn(\"age_group\", \\\n",
    "                                    when(col(\"age\").between(18, 24), \"18-24\") \\\n",
    "                                    .when(col(\"age\").between(25, 35), \"25-35\") \\\n",
    "                                    .when(col(\"age\").between(36, 50), \"36-50\") \\\n",
    "                                    .otherwise(\"50+\"))\n",
    "\n",
    "# Find the median follower_count for each age_group\n",
    "df_median_follower_count_per_age_range= df_pin_user_grouped_age.groupBy(\"age_group\") \\\n",
    "                                                                .agg(percentile_approx(\"follower_count\", 0.5).alias(\"median_follower_count\")) \\\n",
    "                                                                .orderBy(\"age_group\")\n",
    "                                                        \n",
    "df_median_follower_count_per_age_range.show()\n",
    "display(df_median_follower_count_per_age_range)\n"
   ]
  },
  {
   "cell_type": "markdown",
   "metadata": {
    "application/vnd.databricks.v1+cell": {
     "cellMetadata": {
      "byteLimit": 2048000,
      "rowLimit": 10000
     },
     "inputWidgets": {},
     "nuid": "6422176f-c9a9-4589-bb7e-3cbb69496696",
     "showTitle": false,
     "title": ""
    }
   },
   "source": [
    "# Q6. Find how many users have joined each year?\n",
    "\n",
    "    Find how many users have joined between 2015 and 2020.\n",
    "\n",
    "      Your query should return a DataFrame that contains the following columns:\n",
    "\n",
    "      post_year, a new column that contains only the year from the timestamp column\n",
    "      number_users_joined, a new column containing the desired query output"
   ]
  },
  {
   "cell_type": "code",
   "execution_count": null,
   "metadata": {
    "application/vnd.databricks.v1+cell": {
     "cellMetadata": {
      "byteLimit": 2048000,
      "rowLimit": 10000
     },
     "inputWidgets": {},
     "nuid": "aa543fa9-c105-42db-8262-7ba33fd024da",
     "showTitle": false,
     "title": ""
    }
   },
   "outputs": [
    {
     "data": {
      "text/html": [
       "<style scoped>\n",
       "  .ansiout {\n",
       "    display: block;\n",
       "    unicode-bidi: embed;\n",
       "    white-space: pre-wrap;\n",
       "    word-wrap: break-word;\n",
       "    word-break: break-all;\n",
       "    font-family: \"Menlo\", \"Monaco\", \"Consolas\", \"Ubuntu Mono\", \"Source Code Pro\", monospace;\n",
       "    font-size: 13px;\n",
       "    color: #555;\n",
       "    margin-left: 4px;\n",
       "    line-height: 19px;\n",
       "  }\n",
       "</style>\n",
       "<div class=\"ansiout\">+---------+-------------------+\n",
       "post_year|number_users_joined|\n",
       "+---------+-------------------+\n",
       "     2015|                574|\n",
       "     2016|                677|\n",
       "     2017|                236|\n",
       "+---------+-------------------+\n",
       "\n",
       "</div>"
      ]
     },
     "metadata": {
      "application/vnd.databricks.v1+output": {
       "addedWidgets": {},
       "arguments": {},
       "data": "<div class=\"ansiout\">+---------+-------------------+\n|post_year|number_users_joined|\n+---------+-------------------+\n|     2015|                574|\n|     2016|                677|\n|     2017|                236|\n+---------+-------------------+\n\n</div>",
       "datasetInfos": [],
       "metadata": {},
       "removedWidgets": [],
       "type": "html"
      }
     },
     "output_type": "display_data"
    },
    {
     "data": {
      "text/html": [
       "<style scoped>\n",
       "  .table-result-container {\n",
       "    max-height: 300px;\n",
       "    overflow: auto;\n",
       "  }\n",
       "  table, th, td {\n",
       "    border: 1px solid black;\n",
       "    border-collapse: collapse;\n",
       "  }\n",
       "  th, td {\n",
       "    padding: 5px;\n",
       "  }\n",
       "  th {\n",
       "    text-align: left;\n",
       "  }\n",
       "</style><div class='table-result-container'><table class='table-result'><thead style='background-color: white'><tr><th>post_year</th><th>number_users_joined</th></tr></thead><tbody><tr><td>2015</td><td>574</td></tr><tr><td>2016</td><td>677</td></tr><tr><td>2017</td><td>236</td></tr></tbody></table></div>"
      ]
     },
     "metadata": {
      "application/vnd.databricks.v1+output": {
       "addedWidgets": {},
       "aggData": [],
       "aggError": "",
       "aggOverflow": false,
       "aggSchema": [],
       "aggSeriesLimitReached": false,
       "aggType": "",
       "arguments": {},
       "columnCustomDisplayInfos": {},
       "data": [
        [
         2015,
         574
        ],
        [
         2016,
         677
        ],
        [
         2017,
         236
        ]
       ],
       "datasetInfos": [],
       "dbfsResultPath": null,
       "isJsonSchema": true,
       "metadata": {},
       "overflow": false,
       "plotOptions": {
        "customPlotOptions": {},
        "displayType": "table",
        "pivotAggregation": null,
        "pivotColumns": null,
        "xColumns": null,
        "yColumns": null
       },
       "removedWidgets": [],
       "schema": [
        {
         "metadata": "{}",
         "name": "post_year",
         "type": "\"integer\""
        },
        {
         "metadata": "{}",
         "name": "number_users_joined",
         "type": "\"long\""
        }
       ],
       "type": "table"
      }
     },
     "output_type": "display_data"
    }
   ],
   "source": [
    "df_users_joined_per_year = df_user \\\n",
    "    .groupBy(year(\"date_joined\").alias(\"post_year\")) \\\n",
    "    .agg(count(\"user_name\").alias(\"number_users_joined\")) \\\n",
    "    .filter(col(\"post_year\").between(2015, 2020)) \\\n",
    "    .select(\"post_year\", \"number_users_joined\")\n",
    "\n",
    "df_users_joined_per_year.show()\n",
    "display(df_users_joined_per_year)"
   ]
  },
  {
   "cell_type": "markdown",
   "metadata": {
    "application/vnd.databricks.v1+cell": {
     "cellMetadata": {
      "byteLimit": 2048000,
      "rowLimit": 10000
     },
     "inputWidgets": {},
     "nuid": "e45b18ae-9495-4576-a809-d33827278055",
     "showTitle": false,
     "title": ""
    }
   },
   "source": [
    "# Q7. Find the median follower count of users based on their joining year.\n",
    "\n",
    "    Find the median follower count of users have joined between 2015 and 2020.\n",
    "\n",
    "      Your query should return a DataFrame that contains the following columns:\n",
    "\n",
    "      post_year, a new column that contains only the year from the timestamp column\n",
    "      median_follower_count, a new column containing the desired query output"
   ]
  },
  {
   "cell_type": "code",
   "execution_count": null,
   "metadata": {
    "application/vnd.databricks.v1+cell": {
     "cellMetadata": {
      "byteLimit": 2048000,
      "rowLimit": 10000
     },
     "inputWidgets": {},
     "nuid": "bbee97c7-6427-4abe-b1e9-ded7ff51309e",
     "showTitle": false,
     "title": ""
    }
   },
   "outputs": [
    {
     "data": {
      "text/html": [
       "<style scoped>\n",
       "  .ansiout {\n",
       "    display: block;\n",
       "    unicode-bidi: embed;\n",
       "    white-space: pre-wrap;\n",
       "    word-wrap: break-word;\n",
       "    word-break: break-all;\n",
       "    font-family: \"Menlo\", \"Monaco\", \"Consolas\", \"Ubuntu Mono\", \"Source Code Pro\", monospace;\n",
       "    font-size: 13px;\n",
       "    color: #555;\n",
       "    margin-left: 4px;\n",
       "    line-height: 19px;\n",
       "  }\n",
       "</style>\n",
       "<div class=\"ansiout\">+---------+---------------------+\n",
       "post_year|median_follower_count|\n",
       "+---------+---------------------+\n",
       "     2015|                92000|\n",
       "     2016|                25000|\n",
       "     2017|                 6000|\n",
       "+---------+---------------------+\n",
       "\n",
       "</div>"
      ]
     },
     "metadata": {
      "application/vnd.databricks.v1+output": {
       "addedWidgets": {},
       "arguments": {},
       "data": "<div class=\"ansiout\">+---------+---------------------+\n|post_year|median_follower_count|\n+---------+---------------------+\n|     2015|                92000|\n|     2016|                25000|\n|     2017|                 6000|\n+---------+---------------------+\n\n</div>",
       "datasetInfos": [],
       "metadata": {},
       "removedWidgets": [],
       "type": "html"
      }
     },
     "output_type": "display_data"
    },
    {
     "data": {
      "text/html": [
       "<style scoped>\n",
       "  .table-result-container {\n",
       "    max-height: 300px;\n",
       "    overflow: auto;\n",
       "  }\n",
       "  table, th, td {\n",
       "    border: 1px solid black;\n",
       "    border-collapse: collapse;\n",
       "  }\n",
       "  th, td {\n",
       "    padding: 5px;\n",
       "  }\n",
       "  th {\n",
       "    text-align: left;\n",
       "  }\n",
       "</style><div class='table-result-container'><table class='table-result'><thead style='background-color: white'><tr><th>post_year</th><th>median_follower_count</th></tr></thead><tbody><tr><td>2015</td><td>92000</td></tr><tr><td>2016</td><td>25000</td></tr><tr><td>2017</td><td>6000</td></tr></tbody></table></div>"
      ]
     },
     "metadata": {
      "application/vnd.databricks.v1+output": {
       "addedWidgets": {},
       "aggData": [],
       "aggError": "",
       "aggOverflow": false,
       "aggSchema": [],
       "aggSeriesLimitReached": false,
       "aggType": "",
       "arguments": {},
       "columnCustomDisplayInfos": {},
       "data": [
        [
         2015,
         92000
        ],
        [
         2016,
         25000
        ],
        [
         2017,
         6000
        ]
       ],
       "datasetInfos": [],
       "dbfsResultPath": null,
       "isJsonSchema": true,
       "metadata": {},
       "overflow": false,
       "plotOptions": {
        "customPlotOptions": {},
        "displayType": "table",
        "pivotAggregation": null,
        "pivotColumns": null,
        "xColumns": null,
        "yColumns": null
       },
       "removedWidgets": [],
       "schema": [
        {
         "metadata": "{}",
         "name": "post_year",
         "type": "\"integer\""
        },
        {
         "metadata": "{}",
         "name": "median_follower_count",
         "type": "\"integer\""
        }
       ],
       "type": "table"
      }
     },
     "output_type": "display_data"
    }
   ],
   "source": [
    "# Joining the two DataFrames\n",
    "df_pin_user = df_pin.join(df_user, df_pin[\"ind\"] == df_user[\"ind\"], how=\"inner\")\n",
    "\n",
    "# Find the median follower_count of users that joined between 2015 and 2020\n",
    "df_median_follower_count_post_year = df_pin_user.withColumn(\"post_year\", year(\"date_joined\"))  \\\n",
    "    .filter(col(\"post_year\").between(2015, 2020)) \\\n",
    "    .groupBy(\"post_year\") \\\n",
    "    .agg(percentile_approx(\"follower_count\", 0.5).alias(\"median_follower_count\")) \\\n",
    "    .orderBy(\"post_year\") \n",
    "\n",
    "df_median_follower_count_post_year.show()\n",
    "display(df_median_follower_count_post_year)\n"
   ]
  },
  {
   "cell_type": "markdown",
   "metadata": {
    "application/vnd.databricks.v1+cell": {
     "cellMetadata": {
      "byteLimit": 2048000,
      "rowLimit": 10000
     },
     "inputWidgets": {},
     "nuid": "79432cc6-153c-440e-a53d-f501fb32ece4",
     "showTitle": false,
     "title": ""
    }
   },
   "source": [
    "# Q8. Find the median follower count of users based on their joining year and age group.\n",
    "\n",
    "    Find the median follower count of users that have joined between 2015 and 2020, based on which age group they are part of.\n",
    "\n",
    "      Your query should return a DataFrame that contains the following columns:\n",
    "\n",
    "      age_group, a new column based on the original age column\n",
    "      post_year, a new column that contains only the year from the timestamp column\n",
    "      median_follower_count, a new column containing the desired query output"
   ]
  },
  {
   "cell_type": "code",
   "execution_count": null,
   "metadata": {
    "application/vnd.databricks.v1+cell": {
     "cellMetadata": {
      "byteLimit": 2048000,
      "rowLimit": 10000
     },
     "inputWidgets": {},
     "nuid": "5c0c714f-9955-4057-a057-7064ddf947bc",
     "showTitle": false,
     "title": ""
    }
   },
   "outputs": [
    {
     "data": {
      "text/html": [
       "<style scoped>\n",
       "  .ansiout {\n",
       "    display: block;\n",
       "    unicode-bidi: embed;\n",
       "    white-space: pre-wrap;\n",
       "    word-wrap: break-word;\n",
       "    word-break: break-all;\n",
       "    font-family: \"Menlo\", \"Monaco\", \"Consolas\", \"Ubuntu Mono\", \"Source Code Pro\", monospace;\n",
       "    font-size: 13px;\n",
       "    color: #555;\n",
       "    margin-left: 4px;\n",
       "    line-height: 19px;\n",
       "  }\n",
       "</style>\n",
       "<div class=\"ansiout\">+---------+---------+---------------------+\n",
       "age_group|post_year|median_follower_count|\n",
       "+---------+---------+---------------------+\n",
       "    18-24|     2015|               211000|\n",
       "    25-35|     2015|                44000|\n",
       "    36-50|     2015|                13000|\n",
       "      50+|     2015|                  196|\n",
       "    18-24|     2016|                40000|\n",
       "    25-35|     2016|                30000|\n",
       "    36-50|     2016|                 9000|\n",
       "      50+|     2016|                 1000|\n",
       "    18-24|     2017|                18000|\n",
       "    25-35|     2017|                 8000|\n",
       "    36-50|     2017|                 3000|\n",
       "      50+|     2017|                 5000|\n",
       "+---------+---------+---------------------+\n",
       "\n",
       "</div>"
      ]
     },
     "metadata": {
      "application/vnd.databricks.v1+output": {
       "addedWidgets": {},
       "arguments": {},
       "data": "<div class=\"ansiout\">+---------+---------+---------------------+\n|age_group|post_year|median_follower_count|\n+---------+---------+---------------------+\n|    18-24|     2015|               211000|\n|    25-35|     2015|                44000|\n|    36-50|     2015|                13000|\n|      50+|     2015|                  196|\n|    18-24|     2016|                40000|\n|    25-35|     2016|                30000|\n|    36-50|     2016|                 9000|\n|      50+|     2016|                 1000|\n|    18-24|     2017|                18000|\n|    25-35|     2017|                 8000|\n|    36-50|     2017|                 3000|\n|      50+|     2017|                 5000|\n+---------+---------+---------------------+\n\n</div>",
       "datasetInfos": [],
       "metadata": {},
       "removedWidgets": [],
       "type": "html"
      }
     },
     "output_type": "display_data"
    },
    {
     "data": {
      "text/html": [
       "<style scoped>\n",
       "  .table-result-container {\n",
       "    max-height: 300px;\n",
       "    overflow: auto;\n",
       "  }\n",
       "  table, th, td {\n",
       "    border: 1px solid black;\n",
       "    border-collapse: collapse;\n",
       "  }\n",
       "  th, td {\n",
       "    padding: 5px;\n",
       "  }\n",
       "  th {\n",
       "    text-align: left;\n",
       "  }\n",
       "</style><div class='table-result-container'><table class='table-result'><thead style='background-color: white'><tr><th>age_group</th><th>post_year</th><th>median_follower_count</th></tr></thead><tbody><tr><td>18-24</td><td>2015</td><td>211000</td></tr><tr><td>25-35</td><td>2015</td><td>44000</td></tr><tr><td>36-50</td><td>2015</td><td>13000</td></tr><tr><td>50+</td><td>2015</td><td>196</td></tr><tr><td>18-24</td><td>2016</td><td>40000</td></tr><tr><td>25-35</td><td>2016</td><td>30000</td></tr><tr><td>36-50</td><td>2016</td><td>9000</td></tr><tr><td>50+</td><td>2016</td><td>1000</td></tr><tr><td>18-24</td><td>2017</td><td>18000</td></tr><tr><td>25-35</td><td>2017</td><td>8000</td></tr><tr><td>36-50</td><td>2017</td><td>3000</td></tr><tr><td>50+</td><td>2017</td><td>5000</td></tr></tbody></table></div>"
      ]
     },
     "metadata": {
      "application/vnd.databricks.v1+output": {
       "addedWidgets": {},
       "aggData": [],
       "aggError": "",
       "aggOverflow": false,
       "aggSchema": [],
       "aggSeriesLimitReached": false,
       "aggType": "",
       "arguments": {},
       "columnCustomDisplayInfos": {},
       "data": [
        [
         "18-24",
         2015,
         211000
        ],
        [
         "25-35",
         2015,
         44000
        ],
        [
         "36-50",
         2015,
         13000
        ],
        [
         "50+",
         2015,
         196
        ],
        [
         "18-24",
         2016,
         40000
        ],
        [
         "25-35",
         2016,
         30000
        ],
        [
         "36-50",
         2016,
         9000
        ],
        [
         "50+",
         2016,
         1000
        ],
        [
         "18-24",
         2017,
         18000
        ],
        [
         "25-35",
         2017,
         8000
        ],
        [
         "36-50",
         2017,
         3000
        ],
        [
         "50+",
         2017,
         5000
        ]
       ],
       "datasetInfos": [],
       "dbfsResultPath": null,
       "isJsonSchema": true,
       "metadata": {},
       "overflow": false,
       "plotOptions": {
        "customPlotOptions": {},
        "displayType": "table",
        "pivotAggregation": null,
        "pivotColumns": null,
        "xColumns": null,
        "yColumns": null
       },
       "removedWidgets": [],
       "schema": [
        {
         "metadata": "{}",
         "name": "age_group",
         "type": "\"string\""
        },
        {
         "metadata": "{}",
         "name": "post_year",
         "type": "\"integer\""
        },
        {
         "metadata": "{}",
         "name": "median_follower_count",
         "type": "\"integer\""
        }
       ],
       "type": "table"
      }
     },
     "output_type": "display_data"
    }
   ],
   "source": [
    "# Joining the two DataFrames\n",
    "df_pin_user = df_pin.join(df_user, df_pin[\"ind\"] == df_user[\"ind\"], how=\"inner\")\n",
    "\n",
    "# Creates age_group column\n",
    "df_pin_user_grouped_age = df_pin_user.withColumn(\"age_group\", \\\n",
    "                                    when(col(\"age\").between(18, 24), \"18-24\") \\\n",
    "                                    .when(col(\"age\").between(25, 35), \"25-35\") \\\n",
    "                                    .when(col(\"age\").between(36, 50), \"36-50\") \\\n",
    "                                    .otherwise(\"50+\"))\n",
    "\n",
    "# Find the median follower_count of users that joined between 2015 and 2020 in each age group\n",
    "df_median_follower_count_post_year_age_group = df_pin_user_grouped_age.withColumn(\"post_year\", year(\"date_joined\"))  \\\n",
    "    .filter(col(\"post_year\").between(2015, 2020)) \\\n",
    "    .groupBy(\"post_year\", \"age_group\") \\\n",
    "    .agg(percentile_approx(\"follower_count\", 0.5).alias(\"median_follower_count\")) \\\n",
    "    .orderBy(\"post_year\", \"age_group\") \\\n",
    "    .select(\"age_group\", \"post_year\", \"median_follower_count\")\n",
    "\n",
    "df_median_follower_count_post_year_age_group.show()\n",
    "display(df_median_follower_count_post_year_age_group)\n"
   ]
  },
  {
   "cell_type": "markdown",
   "metadata": {
    "application/vnd.databricks.v1+cell": {
     "cellMetadata": {
      "byteLimit": 2048000,
      "rowLimit": 10000
     },
     "inputWidgets": {},
     "nuid": "38fd3660-2d66-4b00-b843-62d13b32756d",
     "showTitle": false,
     "title": ""
    }
   },
   "source": [
    "# Q8. Using Spark SQL to tackle the query"
   ]
  },
  {
   "cell_type": "code",
   "execution_count": null,
   "metadata": {
    "application/vnd.databricks.v1+cell": {
     "cellMetadata": {
      "byteLimit": 2048000,
      "rowLimit": 10000
     },
     "inputWidgets": {},
     "nuid": "f231b127-0750-41eb-a620-6f87a653a424",
     "showTitle": false,
     "title": ""
    }
   },
   "outputs": [
    {
     "data": {
      "text/html": [
       "<style scoped>\n",
       "  .ansiout {\n",
       "    display: block;\n",
       "    unicode-bidi: embed;\n",
       "    white-space: pre-wrap;\n",
       "    word-wrap: break-word;\n",
       "    word-break: break-all;\n",
       "    font-family: \"Menlo\", \"Monaco\", \"Consolas\", \"Ubuntu Mono\", \"Source Code Pro\", monospace;\n",
       "    font-size: 13px;\n",
       "    color: #555;\n",
       "    margin-left: 4px;\n",
       "    line-height: 19px;\n",
       "  }\n",
       "</style>\n",
       "<div class=\"ansiout\"></div>"
      ]
     },
     "metadata": {
      "application/vnd.databricks.v1+output": {
       "addedWidgets": {},
       "arguments": {},
       "data": "<div class=\"ansiout\"></div>",
       "datasetInfos": [],
       "metadata": {},
       "removedWidgets": [],
       "type": "html"
      }
     },
     "output_type": "display_data"
    }
   ],
   "source": [
    "# Creating a temporary view for Spark SQL queries.\n",
    "df_pin.join(df_user, df_pin.ind == df_user.ind).createOrReplaceTempView(\"pin_user_table\")"
   ]
  },
  {
   "cell_type": "code",
   "execution_count": null,
   "metadata": {
    "application/vnd.databricks.v1+cell": {
     "cellMetadata": {
      "byteLimit": 2048000,
      "rowLimit": 10000
     },
     "inputWidgets": {},
     "nuid": "ec75a1a1-6cf4-4291-befb-966ac9cb76b8",
     "showTitle": false,
     "title": ""
    }
   },
   "outputs": [
    {
     "data": {
      "text/html": [
       "<style scoped>\n",
       "  .ansiout {\n",
       "    display: block;\n",
       "    unicode-bidi: embed;\n",
       "    white-space: pre-wrap;\n",
       "    word-wrap: break-word;\n",
       "    word-break: break-all;\n",
       "    font-family: \"Menlo\", \"Monaco\", \"Consolas\", \"Ubuntu Mono\", \"Source Code Pro\", monospace;\n",
       "    font-size: 13px;\n",
       "    color: #555;\n",
       "    margin-left: 4px;\n",
       "    line-height: 19px;\n",
       "  }\n",
       "</style>\n",
       "<div class=\"ansiout\"></div>"
      ]
     },
     "metadata": {
      "application/vnd.databricks.v1+output": {
       "addedWidgets": {},
       "arguments": {},
       "data": "<div class=\"ansiout\"></div>",
       "datasetInfos": [],
       "metadata": {},
       "removedWidgets": [],
       "type": "html"
      }
     },
     "output_type": "display_data"
    }
   ],
   "source": [
    "# Joining the two DataFrames\n",
    "df_pin_user_sql = df_pin.join(df_user, df_pin[\"ind\"] == df_user[\"ind\"], how=\"inner\")"
   ]
  },
  {
   "cell_type": "code",
   "execution_count": null,
   "metadata": {
    "application/vnd.databricks.v1+cell": {
     "cellMetadata": {
      "byteLimit": 2048000,
      "implicitDf": true,
      "rowLimit": 10000
     },
     "inputWidgets": {},
     "nuid": "2fdf5a7f-adeb-4662-9a3f-e98eba9739ca",
     "showTitle": false,
     "title": ""
    }
   },
   "outputs": [
    {
     "data": {
      "text/html": [
       "<style scoped>\n",
       "  .ansiout {\n",
       "    display: block;\n",
       "    unicode-bidi: embed;\n",
       "    white-space: pre-wrap;\n",
       "    word-wrap: break-word;\n",
       "    word-break: break-all;\n",
       "    font-family: \"Menlo\", \"Monaco\", \"Consolas\", \"Ubuntu Mono\", \"Source Code Pro\", monospace;\n",
       "    font-size: 13px;\n",
       "    color: #555;\n",
       "    margin-left: 4px;\n",
       "    line-height: 19px;\n",
       "  }\n",
       "</style>\n",
       "<div class=\"ansiout\"></div>"
      ]
     },
     "metadata": {
      "application/vnd.databricks.v1+output": {
       "addedWidgets": {},
       "arguments": {},
       "data": "<div class=\"ansiout\"></div>",
       "datasetInfos": [],
       "metadata": {},
       "removedWidgets": [],
       "type": "html"
      }
     },
     "output_type": "display_data"
    }
   ],
   "source": [
    "# %sql\n",
    "# SELECT \n",
    "# CASE\n",
    "#     WHEN age BETWEEN 18 AND 24 THEN '18-24'\n",
    "#     WHEN age BETWEEN 25 AND 35 THEN '25-35'\n",
    "#     WHEN age BETWEEN 36 AND 50 THEN '36-50'\n",
    "#     WHEN age > 50 THEN '50+'\n",
    "# END AS age_group,\n",
    "# date_joined, follower_count\n",
    "# FROM pin_user_table\n"
   ]
  },
  {
   "cell_type": "code",
   "execution_count": null,
   "metadata": {
    "application/vnd.databricks.v1+cell": {
     "cellMetadata": {
      "byteLimit": 2048000,
      "rowLimit": 10000
     },
     "inputWidgets": {},
     "nuid": "62137a78-979c-4108-96bf-341b27e6f001",
     "showTitle": false,
     "title": ""
    }
   },
   "outputs": [
    {
     "data": {
      "text/html": [
       "<style scoped>\n",
       "  .ansiout {\n",
       "    display: block;\n",
       "    unicode-bidi: embed;\n",
       "    white-space: pre-wrap;\n",
       "    word-wrap: break-word;\n",
       "    word-break: break-all;\n",
       "    font-family: \"Menlo\", \"Monaco\", \"Consolas\", \"Ubuntu Mono\", \"Source Code Pro\", monospace;\n",
       "    font-size: 13px;\n",
       "    color: #555;\n",
       "    margin-left: 4px;\n",
       "    line-height: 19px;\n",
       "  }\n",
       "</style>\n",
       "<div class=\"ansiout\">+---------+-------------------+--------------+\n",
       "age_group|        date_joined|follower_count|\n",
       "+---------+-------------------+--------------+\n",
       "    25-35|2016-04-21 15:45:11|          4000|\n",
       "    18-24|2016-06-15 12:49:30|         56000|\n",
       "    25-35|2016-12-15 04:11:20|           511|\n",
       "    36-50|2017-03-23 16:11:45|         87000|\n",
       "      50+|2017-08-14 08:26:30|         19000|\n",
       "      50+|2017-08-14 08:26:30|         19000|\n",
       "      50+|2017-08-14 08:26:30|         19000|\n",
       "      50+|2017-08-14 08:26:30|         19000|\n",
       "      50+|2017-08-14 08:26:30|         19000|\n",
       "      50+|2017-08-14 08:26:30|         19000|\n",
       "      50+|2017-08-14 08:26:30|         19000|\n",
       "      50+|2017-08-14 08:26:30|         19000|\n",
       "      50+|2017-08-14 08:26:30|         19000|\n",
       "      50+|2017-08-14 08:26:30|         19000|\n",
       "      50+|2017-08-14 08:26:30|         19000|\n",
       "      50+|2017-08-14 08:26:30|         19000|\n",
       "    36-50|2017-03-08 06:03:20|            22|\n",
       "    25-35|2016-01-19 18:41:59|             4|\n",
       "    36-50|2016-11-26 08:35:53|          1000|\n",
       "    18-24|2015-10-30 11:37:32|         47000|\n",
       "+---------+-------------------+--------------+\n",
       "only showing top 20 rows\n",
       "\n",
       "</div>"
      ]
     },
     "metadata": {
      "application/vnd.databricks.v1+output": {
       "addedWidgets": {},
       "arguments": {},
       "data": "<div class=\"ansiout\">+---------+-------------------+--------------+\n|age_group|        date_joined|follower_count|\n+---------+-------------------+--------------+\n|    25-35|2016-04-21 15:45:11|          4000|\n|    18-24|2016-06-15 12:49:30|         56000|\n|    25-35|2016-12-15 04:11:20|           511|\n|    36-50|2017-03-23 16:11:45|         87000|\n|      50+|2017-08-14 08:26:30|         19000|\n|      50+|2017-08-14 08:26:30|         19000|\n|      50+|2017-08-14 08:26:30|         19000|\n|      50+|2017-08-14 08:26:30|         19000|\n|      50+|2017-08-14 08:26:30|         19000|\n|      50+|2017-08-14 08:26:30|         19000|\n|      50+|2017-08-14 08:26:30|         19000|\n|      50+|2017-08-14 08:26:30|         19000|\n|      50+|2017-08-14 08:26:30|         19000|\n|      50+|2017-08-14 08:26:30|         19000|\n|      50+|2017-08-14 08:26:30|         19000|\n|      50+|2017-08-14 08:26:30|         19000|\n|    36-50|2017-03-08 06:03:20|            22|\n|    25-35|2016-01-19 18:41:59|             4|\n|    36-50|2016-11-26 08:35:53|          1000|\n|    18-24|2015-10-30 11:37:32|         47000|\n+---------+-------------------+--------------+\nonly showing top 20 rows\n\n</div>",
       "datasetInfos": [],
       "metadata": {},
       "removedWidgets": [],
       "type": "html"
      }
     },
     "output_type": "display_data"
    }
   ],
   "source": [
    "age_group_followercount_joindate = spark.sql(\"\"\"\n",
    "SELECT \n",
    "CASE\n",
    "    WHEN age BETWEEN 18 AND 24 THEN '18-24'\n",
    "    WHEN age BETWEEN 25 AND 35 THEN '25-35'\n",
    "    WHEN age BETWEEN 36 AND 50 THEN '36-50'\n",
    "    WHEN age > 50 THEN '50+'\n",
    "END AS age_group,\n",
    "date_joined, follower_count\n",
    "FROM pin_user_table\"\"\")\n",
    "\n",
    "age_group_followercount_joindate.show()"
   ]
  },
  {
   "cell_type": "code",
   "execution_count": null,
   "metadata": {
    "application/vnd.databricks.v1+cell": {
     "cellMetadata": {
      "byteLimit": 2048000,
      "rowLimit": 10000
     },
     "inputWidgets": {},
     "nuid": "003c2f7c-a306-4722-8494-916907718f6f",
     "showTitle": false,
     "title": ""
    }
   },
   "outputs": [
    {
     "data": {
      "text/html": [
       "<style scoped>\n",
       "  .ansiout {\n",
       "    display: block;\n",
       "    unicode-bidi: embed;\n",
       "    white-space: pre-wrap;\n",
       "    word-wrap: break-word;\n",
       "    word-break: break-all;\n",
       "    font-family: \"Menlo\", \"Monaco\", \"Consolas\", \"Ubuntu Mono\", \"Source Code Pro\", monospace;\n",
       "    font-size: 13px;\n",
       "    color: #555;\n",
       "    margin-left: 4px;\n",
       "    line-height: 19px;\n",
       "  }\n",
       "</style>\n",
       "<div class=\"ansiout\">+---------+---------+---------------------+\n",
       "age_group|post_year|median_follower_count|\n",
       "+---------+---------+---------------------+\n",
       "    18-24|     2015|               211000|\n",
       "    25-35|     2015|                44000|\n",
       "    36-50|     2015|                13000|\n",
       "      50+|     2015|                  196|\n",
       "    18-24|     2016|                40000|\n",
       "    25-35|     2016|                30000|\n",
       "    36-50|     2016|                 9000|\n",
       "      50+|     2016|                 1000|\n",
       "    18-24|     2017|                18000|\n",
       "    25-35|     2017|                 8000|\n",
       "    36-50|     2017|                 3000|\n",
       "      50+|     2017|                 5000|\n",
       "+---------+---------+---------------------+\n",
       "\n",
       "</div>"
      ]
     },
     "metadata": {
      "application/vnd.databricks.v1+output": {
       "addedWidgets": {},
       "arguments": {},
       "data": "<div class=\"ansiout\">+---------+---------+---------------------+\n|age_group|post_year|median_follower_count|\n+---------+---------+---------------------+\n|    18-24|     2015|               211000|\n|    25-35|     2015|                44000|\n|    36-50|     2015|                13000|\n|      50+|     2015|                  196|\n|    18-24|     2016|                40000|\n|    25-35|     2016|                30000|\n|    36-50|     2016|                 9000|\n|      50+|     2016|                 1000|\n|    18-24|     2017|                18000|\n|    25-35|     2017|                 8000|\n|    36-50|     2017|                 3000|\n|      50+|     2017|                 5000|\n+---------+---------+---------------------+\n\n</div>",
       "datasetInfos": [],
       "metadata": {},
       "removedWidgets": [],
       "type": "html"
      }
     },
     "output_type": "display_data"
    },
    {
     "data": {
      "text/html": [
       "<style scoped>\n",
       "  .table-result-container {\n",
       "    max-height: 300px;\n",
       "    overflow: auto;\n",
       "  }\n",
       "  table, th, td {\n",
       "    border: 1px solid black;\n",
       "    border-collapse: collapse;\n",
       "  }\n",
       "  th, td {\n",
       "    padding: 5px;\n",
       "  }\n",
       "  th {\n",
       "    text-align: left;\n",
       "  }\n",
       "</style><div class='table-result-container'><table class='table-result'><thead style='background-color: white'><tr><th>age_group</th><th>post_year</th><th>median_follower_count</th></tr></thead><tbody><tr><td>18-24</td><td>2015</td><td>211000</td></tr><tr><td>25-35</td><td>2015</td><td>44000</td></tr><tr><td>36-50</td><td>2015</td><td>13000</td></tr><tr><td>50+</td><td>2015</td><td>196</td></tr><tr><td>18-24</td><td>2016</td><td>40000</td></tr><tr><td>25-35</td><td>2016</td><td>30000</td></tr><tr><td>36-50</td><td>2016</td><td>9000</td></tr><tr><td>50+</td><td>2016</td><td>1000</td></tr><tr><td>18-24</td><td>2017</td><td>18000</td></tr><tr><td>25-35</td><td>2017</td><td>8000</td></tr><tr><td>36-50</td><td>2017</td><td>3000</td></tr><tr><td>50+</td><td>2017</td><td>5000</td></tr></tbody></table></div>"
      ]
     },
     "metadata": {
      "application/vnd.databricks.v1+output": {
       "addedWidgets": {},
       "aggData": [],
       "aggError": "",
       "aggOverflow": false,
       "aggSchema": [],
       "aggSeriesLimitReached": false,
       "aggType": "",
       "arguments": {},
       "columnCustomDisplayInfos": {},
       "data": [
        [
         "18-24",
         2015,
         211000
        ],
        [
         "25-35",
         2015,
         44000
        ],
        [
         "36-50",
         2015,
         13000
        ],
        [
         "50+",
         2015,
         196
        ],
        [
         "18-24",
         2016,
         40000
        ],
        [
         "25-35",
         2016,
         30000
        ],
        [
         "36-50",
         2016,
         9000
        ],
        [
         "50+",
         2016,
         1000
        ],
        [
         "18-24",
         2017,
         18000
        ],
        [
         "25-35",
         2017,
         8000
        ],
        [
         "36-50",
         2017,
         3000
        ],
        [
         "50+",
         2017,
         5000
        ]
       ],
       "datasetInfos": [],
       "dbfsResultPath": null,
       "isJsonSchema": true,
       "metadata": {},
       "overflow": false,
       "plotOptions": {
        "customPlotOptions": {},
        "displayType": "table",
        "pivotAggregation": null,
        "pivotColumns": null,
        "xColumns": null,
        "yColumns": null
       },
       "removedWidgets": [],
       "schema": [
        {
         "metadata": "{}",
         "name": "age_group",
         "type": "\"string\""
        },
        {
         "metadata": "{}",
         "name": "post_year",
         "type": "\"integer\""
        },
        {
         "metadata": "{}",
         "name": "median_follower_count",
         "type": "\"integer\""
        }
       ],
       "type": "table"
      }
     },
     "output_type": "display_data"
    }
   ],
   "source": [
    "age_group_followercount_joindate = age_group_followercount_joindate \\\n",
    "    .groupBy(\"age_group\", year(\"date_joined\").alias(\"post_year\")) \\\n",
    "    .agg(percentile_approx(\"follower_count\", 0.5).alias(\"median_follower_count\")) \\\n",
    "    .orderBy(\"post_year\", \"age_group\")\n",
    "\n",
    "age_group_followercount_joindate.show()\n",
    "display(age_group_followercount_joindate)"
   ]
  }
 ],
 "metadata": {
  "application/vnd.databricks.v1+notebook": {
   "dashboards": [],
   "environmentMetadata": null,
   "language": "python",
   "notebookMetadata": {
    "mostRecentlyExecutedCommandWithImplicitDF": {
     "commandId": -1,
     "dataframes": [
      "_sqldf"
     ]
    },
    "pythonIndentUnit": 4
   },
   "notebookName": "_3_pinterest_queries",
   "widgets": {}
  },
  "language_info": {
   "name": "python"
  }
 },
 "nbformat": 4,
 "nbformat_minor": 0
}
